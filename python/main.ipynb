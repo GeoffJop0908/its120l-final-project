{
 "cells": [
  {
   "cell_type": "markdown",
   "metadata": {},
   "source": [
    "# Read reviews and metadata into dataframe"
   ]
  },
  {
   "cell_type": "code",
   "execution_count": 1,
   "metadata": {},
   "outputs": [
    {
     "name": "stdout",
     "output_type": "stream",
     "text": [
      "Reviews Dataset\n",
      "   rating                                              title  \\\n",
      "0       4  Sticky stair riser tread thingies are utterly ...   \n",
      "1       1  Dangerous bc metal not properly coated! Rough ...   \n",
      "2       3                      Arrived damaged/dented/rusted   \n",
      "3       5                                My pups love these!   \n",
      "4       3                        My pups refuse to eat them.   \n",
      "\n",
      "                                                text  \\\n",
      "0  Tried to load photos, but none of my photos or...   \n",
      "1  Where to begin?  I’ve been trying to get the 2...   \n",
      "2  Unfortunately mine arrived damaged/dented whic...   \n",
      "3  My pups love these!  It’s one of their favorit...   \n",
      "4  Idk why, but my pups will not eat either flavo...   \n",
      "\n",
      "                                              images        asin parent_asin  \\\n",
      "0                                                 []  B084SXF9Y8  B0BHTBS5RM   \n",
      "1  [{'small_image_url': 'https://m.media-amazon.c...  B000QFWCJ6  B0BJ16KKML   \n",
      "2  [{'small_image_url': 'https://m.media-amazon.c...  B08B875X4H  B0BX76YVP9   \n",
      "3                                                 []  B01MFG9AG7  B0BM6V2SH8   \n",
      "4                                                 []  B00KRMMJV4  B0986BSRB1   \n",
      "\n",
      "                        user_id               timestamp  helpful_vote  \\\n",
      "0  AFKZENTNBQ7A7V7UXW5JJI6UGRYQ 2023-02-04 16:48:49.744             0   \n",
      "1  AFKZENTNBQ7A7V7UXW5JJI6UGRYQ 2022-10-11 18:41:13.369             4   \n",
      "2  AFKZENTNBQ7A7V7UXW5JJI6UGRYQ 2022-06-25 00:55:16.820             4   \n",
      "3  AFKZENTNBQ7A7V7UXW5JJI6UGRYQ 2020-05-20 00:17:18.188             0   \n",
      "4  AFKZENTNBQ7A7V7UXW5JJI6UGRYQ 2020-04-25 22:21:43.681             0   \n",
      "\n",
      "   verified_purchase  \n",
      "0               True  \n",
      "1               True  \n",
      "2               True  \n",
      "3               True  \n",
      "4               True  \n",
      "Metadata Dataset\n",
      "  main_category                                              title  \\\n",
      "0  Pet Supplies  Hurtta Pet Collection 14-Inch Padded Y-Harness...   \n",
      "1  Pet Supplies  Raised Dog Bowls,6 Inch Ceramic Dog Bowl Dish,...   \n",
      "2  Pet Supplies  4 Pack - 4 Inch Ring Filter Socks 200 Micron -...   \n",
      "3  Pet Supplies  SlowTon Dog Vest Harness, Mesh Breathable Pet ...   \n",
      "4  Pet Supplies  Cat Window Perch Durable Cat Hammock Seat for ...   \n",
      "\n",
      "   average_rating  rating_number  \\\n",
      "0             4.4            166   \n",
      "1             4.6            100   \n",
      "2             4.4             84   \n",
      "3             4.5            348   \n",
      "4             4.4            130   \n",
      "\n",
      "                                            features  \\\n",
      "0  [Made from highly durable Neoprene, Fitted wit...   \n",
      "1  [【Two Bowls+Metal Stand+Dog food mat】Really pr...   \n",
      "2  [Micron filter bags provide excellent mechanic...   \n",
      "3  [New Match and Well Made --- The chest part of...   \n",
      "4  [【Ideal for Use Year-around】Cat window perch c...   \n",
      "\n",
      "                                         description  price  \\\n",
      "0  [Hurtta harnesses are suitable for active walk...  24.95   \n",
      "1                                                 []  32.88   \n",
      "2  [Micron filter bags provide excellent mechanic...   15.0   \n",
      "3                                                 []    NaN   \n",
      "4                                                 []  23.99   \n",
      "\n",
      "                                              images  \\\n",
      "0  [{'thumb': 'https://m.media-amazon.com/images/...   \n",
      "1  [{'thumb': 'https://m.media-amazon.com/images/...   \n",
      "2  [{'thumb': 'https://m.media-amazon.com/images/...   \n",
      "3  [{'thumb': 'https://m.media-amazon.com/images/...   \n",
      "4  [{'thumb': 'https://m.media-amazon.com/images/...   \n",
      "\n",
      "                                              videos          store  \\\n",
      "0                                                 []         Hurtta   \n",
      "1  [{'title': 'Ihoming Ceramic Bowls for Dogs and...        FIVEAGE   \n",
      "2                                                 []  Encompass All   \n",
      "3                                                 []        SlowTon   \n",
      "4  [{'title': 'Cat Window Perch Beige Assembly Vi...          Mewoo   \n",
      "\n",
      "                                          categories  \\\n",
      "0  [Pet Supplies, Dogs, Collars, Harnesses & Leas...   \n",
      "1  [Pet Supplies, Dogs, Feeding & Watering Suppli...   \n",
      "2                                                 []   \n",
      "3  [Pet Supplies, Dogs, Collars, Harnesses & Leas...   \n",
      "4   [Pet Supplies, Cats, Beds & Furniture, Hammocks]   \n",
      "\n",
      "                                             details parent_asin  \\\n",
      "0  {'Size': '14 Inch', 'Color': 'Pink', 'Pattern'...  B00XJG2SLG   \n",
      "1  {'Material': 'Ceramic', 'Target Species': 'Cat...  B0BD6TXL2G   \n",
      "2  {'Is Discontinued By Manufacturer': 'No', 'Pro...  B01MQTWB5H   \n",
      "3  {'Size': 'Large', 'Color': 'Purple', 'Pattern'...  B07DYM6LXD   \n",
      "4  {'Brand': 'Mewoo', 'Color': 'Blue,Grey,Beige',...  B09ZTMTS6N   \n",
      "\n",
      "   bought_together subtitle author  \n",
      "0              NaN      NaN    NaN  \n",
      "1              NaN      NaN    NaN  \n",
      "2              NaN      NaN    NaN  \n",
      "3              NaN      NaN    NaN  \n",
      "4              NaN      NaN    NaN  \n"
     ]
    }
   ],
   "source": [
    "import pandas as pd\n",
    "\n",
    "# Define the chunk size\n",
    "chunk_size = 10000  # Adjust based on your system's memory capacity\n",
    "\n",
    "# Initialize an empty list to store DataFrame chunks\n",
    "chunks = []\n",
    "\n",
    "# Read the JSONL file in chunks\n",
    "for chunk in pd.read_json('Pet_Supplies.jsonl', lines=True, chunksize=chunk_size):\n",
    "    chunks.append(chunk)  # Collect each chunk\n",
    "\n",
    "# Concatenate all chunks into a single DataFrame\n",
    "df = pd.concat(chunks, ignore_index=True)\n",
    "\n",
    "# Display the first few rows\n",
    "print(\"Reviews Dataset\")\n",
    "print(df.head())\n",
    "\n",
    "meta_chunks = []\n",
    "\n",
    "# Read the JSONL file in chunks\n",
    "for meta_chunk in pd.read_json('meta_Pet_Supplies.jsonl', lines=True, chunksize=chunk_size):\n",
    "    meta_chunks.append(meta_chunk)  # Collect each chunk\n",
    "\n",
    "# Concatenate all chunks into a single DataFrame\n",
    "meta_df = pd.concat(meta_chunks, ignore_index=True)\n",
    "\n",
    "# Display the first few rows\n",
    "print(\"Metadata Dataset\")\n",
    "print(meta_df.head())"
   ]
  },
  {
   "cell_type": "markdown",
   "metadata": {},
   "source": [
    "# Check Columns"
   ]
  },
  {
   "cell_type": "code",
   "execution_count": 2,
   "metadata": {},
   "outputs": [
    {
     "name": "stdout",
     "output_type": "stream",
     "text": [
      "['rating' 'title' 'text' 'images' 'asin' 'parent_asin' 'user_id'\n",
      " 'timestamp' 'helpful_vote' 'verified_purchase']\n",
      "['main_category' 'title' 'average_rating' 'rating_number' 'features'\n",
      " 'description' 'price' 'images' 'videos' 'store' 'categories' 'details'\n",
      " 'parent_asin' 'bought_together' 'subtitle' 'author']\n"
     ]
    }
   ],
   "source": [
    "pd.set_option('display.max_columns', None)\n",
    "print(df.columns.values)\n",
    "print(meta_df.columns.values)"
   ]
  },
  {
   "cell_type": "markdown",
   "metadata": {},
   "source": [
    "# Grab Sample"
   ]
  },
  {
   "cell_type": "code",
   "execution_count": 3,
   "metadata": {},
   "outputs": [],
   "source": [
    "reviews_sample_size = 5000  # Adjust based on your memory capacity\n",
    "metadata_sample_size = 5000  # Adjust as needed\n",
    "\n",
    "# Extract random samples\n",
    "df_sample = df.sample(n=reviews_sample_size, random_state=42)\n",
    "meta_df_sample = meta_df.sample(n=metadata_sample_size, random_state=42)"
   ]
  },
  {
   "cell_type": "code",
   "execution_count": 4,
   "metadata": {},
   "outputs": [
    {
     "name": "stdout",
     "output_type": "stream",
     "text": [
      "5000\n",
      "5000\n"
     ]
    }
   ],
   "source": [
    "print(len(df_sample))\n",
    "print(len(meta_df_sample))"
   ]
  },
  {
   "cell_type": "markdown",
   "metadata": {},
   "source": [
    "Save samples in csv"
   ]
  },
  {
   "cell_type": "code",
   "execution_count": 5,
   "metadata": {},
   "outputs": [],
   "source": [
    "df_sample.to_csv(\"Reviews_Sample.csv\", index=False)\n",
    "meta_df_sample.to_csv(\"Metadata_Sample.csv\", index=False)"
   ]
  },
  {
   "cell_type": "markdown",
   "metadata": {},
   "source": [
    "# Load Sample"
   ]
  },
  {
   "cell_type": "code",
   "execution_count": 67,
   "metadata": {},
   "outputs": [
    {
     "name": "stdout",
     "output_type": "stream",
     "text": [
      "   rating                                              title  \\\n",
      "0       1                                   Wouldn’t charge.   \n",
      "1       1                                Not worth the money   \n",
      "2       3                        Poor Value.  Too Expensive.   \n",
      "3       5  Cans guide themselves into the correct slot;no...   \n",
      "4       5                    Promotes healthy teeth and gums   \n",
      "\n",
      "                                                text  \\\n",
      "0         Waste of money. They wouldn’t even charge.   \n",
      "1  It was not even close to what it looked online...   \n",
      "2  It’s nice and seems like it will last.  It’s s...   \n",
      "3  We have 13 oz. cans for our indoor cat/outdoor...   \n",
      "4  I give my dog one of these treats right before...   \n",
      "\n",
      "                                              images        asin parent_asin  \\\n",
      "0                                                 []  B08HX33Y53  B0932M1STZ   \n",
      "1                                                 []  B07989JZGP  B07989JZGP   \n",
      "2  [{'small_image_url': 'https://m.media-amazon.c...  B009G9Y4LC  B07BYSHK6R   \n",
      "3                                                 []  B07C9GYLYM  B07C9GYLYM   \n",
      "4                                                 []  B07GC4WP3Z  B08KG7R846   \n",
      "\n",
      "                        user_id                timestamp  helpful_vote  \\\n",
      "0  AFB2D4VH7E7G4WKNEO2OVSVUX2GQ  2022-11-13 23:03:04.572             0   \n",
      "1  AFOMI3JRCN5KSQ5AXAGEDB67KHDA  2022-12-12 18:13:13.347             0   \n",
      "2  AESGFXD3FBBT5LSQJWHT53UAYVVA  2022-12-03 19:55:50.170             0   \n",
      "3  AFVVH5O356EN4Q3AYKPCYB6ANYQA  2019-03-19 08:44:58.594             0   \n",
      "4  AHFNLMHPFW74IWWNKSZMHQCW5J6A  2023-03-06 11:31:36.938             0   \n",
      "\n",
      "   verified_purchase  \n",
      "0               True  \n",
      "1               True  \n",
      "2               True  \n",
      "3               True  \n",
      "4               True  \n",
      "Index(['rating', 'title', 'text', 'images', 'asin', 'parent_asin', 'user_id',\n",
      "       'timestamp', 'helpful_vote', 'verified_purchase'],\n",
      "      dtype='object')\n"
     ]
    }
   ],
   "source": [
    "import pandas as pd\n",
    "\n",
    "df_sample = pd.read_csv('Reviews_Sample.csv')\n",
    "meta_df_sample = pd.read_csv('Metadata_Sample.csv')\n",
    "\n",
    "print(df_sample.head())\n",
    "print(df_sample.columns)"
   ]
  },
  {
   "cell_type": "code",
   "execution_count": 68,
   "metadata": {},
   "outputs": [
    {
     "name": "stdout",
     "output_type": "stream",
     "text": [
      "              main_category  \\\n",
      "0  Tools & Home Improvement   \n",
      "1              Pet Supplies   \n",
      "2              Pet Supplies   \n",
      "3              Pet Supplies   \n",
      "4              Pet Supplies   \n",
      "\n",
      "                                               title  average_rating  \\\n",
      "0  Zoo Med Nightlight Red Reptile Bulb 100 Watts ...             4.3   \n",
      "1  Gimars Thicker PVC Sturdy Not Collapsing Quick...             4.1   \n",
      "2  Natural Balance L.I.D. Limited Ingredient Diet...             4.1   \n",
      "3  teemerryca Detachable Bow Dog Collar with a Fr...             4.4   \n",
      "4  PetSafe Happy Ride Dog Safety Harness for Cars...             4.1   \n",
      "\n",
      "   rating_number                                           features  \\\n",
      "0             13  ['Zoo Med Nightlight Red Reptile Bulb 100 Watt...   \n",
      "1             71  ['【Durable Thicker PVC Material & Deep Texture...   \n",
      "2             14  ['Contains 1 - 12 Pound Bag Of Dry Dog Food', ...   \n",
      "3              5                                                 []   \n",
      "4            226  ['CRASH-TEST CERTIFICATION: Small, medium and ...   \n",
      "\n",
      "                                         description  price  \\\n",
      "0                                                 []  22.95   \n",
      "1                                                 []    NaN   \n",
      "2  ['Formulated with a limited list of premium pr...    NaN   \n",
      "3                                                 []    NaN   \n",
      "4  ['Keep your dog safe and secure on the go with...  15.95   \n",
      "\n",
      "                                              images  \\\n",
      "0  [{'thumb': 'https://m.media-amazon.com/images/...   \n",
      "1  [{'thumb': 'https://m.media-amazon.com/images/...   \n",
      "2  [{'thumb': 'https://m.media-amazon.com/images/...   \n",
      "3  [{'thumb': 'https://m.media-amazon.com/images/...   \n",
      "4  [{'thumb': 'https://m.media-amazon.com/images/...   \n",
      "\n",
      "                                              videos            store  \\\n",
      "0                                                 []          Zoo Med   \n",
      "1  [{'title': 'I just arrived and it’s leaking', ...           Gimars   \n",
      "2                                                 []  Natural Balance   \n",
      "3                                                 []       TEEMERRYCA   \n",
      "4  [{'title': 'PetSafe Deluxe Car Safety Dog Harn...           Solvit   \n",
      "\n",
      "                                          categories  \\\n",
      "0  ['Pet Supplies', 'Reptiles & Amphibians', 'Ter...   \n",
      "1  ['Pet Supplies', 'Dogs', 'Grooming', 'Shower &...   \n",
      "2            ['Pet Supplies', 'Dogs', 'Food', 'Dry']   \n",
      "3  ['Pet Supplies', 'Dogs', 'Collars, Harnesses &...   \n",
      "4  ['Pet Supplies', 'Dogs', 'Collars, Harnesses &...   \n",
      "\n",
      "                                             details parent_asin  \\\n",
      "0                                                 {}  B07SM1Z4QT   \n",
      "1  {'Brand': 'Gimars', 'Shape': 'Round', 'Materia...  B088DBJYZG   \n",
      "2  {'Brand': 'Natural Balance', 'Flavor': 'Beef',...  B00UNIHKIE   \n",
      "3  {'Pattern': 'Animal Print', 'Material': 'Polye...  B08C34TQBS   \n",
      "4  {'Size': 'X-Large', 'Color': 'Blue', 'Pattern'...  B00JZHRXLI   \n",
      "\n",
      "   bought_together subtitle  author  \n",
      "0              NaN      NaN     NaN  \n",
      "1              NaN      NaN     NaN  \n",
      "2              NaN      NaN     NaN  \n",
      "3              NaN      NaN     NaN  \n",
      "4              NaN      NaN     NaN  \n",
      "Index(['main_category', 'title', 'average_rating', 'rating_number', 'features',\n",
      "       'description', 'price', 'images', 'videos', 'store', 'categories',\n",
      "       'details', 'parent_asin', 'bought_together', 'subtitle', 'author'],\n",
      "      dtype='object')\n"
     ]
    }
   ],
   "source": [
    "print(meta_df_sample.head())\n",
    "print(meta_df_sample.columns)"
   ]
  },
  {
   "cell_type": "code",
   "execution_count": 66,
   "metadata": {},
   "outputs": [
    {
     "name": "stdout",
     "output_type": "stream",
     "text": [
      "5000\n"
     ]
    }
   ],
   "source": [
    "print(len(df_sample))"
   ]
  },
  {
   "cell_type": "markdown",
   "metadata": {},
   "source": [
    "# Data Cleaning"
   ]
  },
  {
   "cell_type": "code",
   "execution_count": 73,
   "metadata": {},
   "outputs": [],
   "source": [
    "import ast\n",
    "\n",
    "# Concatenate\n",
    "df_sample['text_feature'] = df_sample['title'] + ' ' + df_sample['text']\n",
    "\n",
    "def safe_eval(val):\n",
    "    try:\n",
    "        return ast.literal_eval(val)\n",
    "    except (ValueError, SyntaxError):\n",
    "        return val\n",
    "\n",
    "# Apply safe_eval to convert string representations to actual lists/dicts\n",
    "meta_df_sample['features'] = meta_df_sample['features'].apply(safe_eval)\n",
    "meta_df_sample['description'] = meta_df_sample['description'].apply(safe_eval)\n",
    "meta_df_sample['details'] = meta_df_sample['details'].apply(safe_eval)\n",
    "\n",
    "# Function to convert list to string\n",
    "def list_to_string(lst):\n",
    "    if isinstance(lst, list):\n",
    "        return ' '.join(lst)\n",
    "    return ''\n",
    "\n",
    "# Function to convert dictionary to formatted string\n",
    "def dict_to_string(d):\n",
    "    if isinstance(d, dict):\n",
    "        return ' '.join([f\"{k}: {v}\" for k, v in d.items()])\n",
    "    return ''\n",
    "\n",
    "# Convert lists and dicts to strings\n",
    "meta_df_sample['features_str'] = meta_df_sample['features'].apply(list_to_string)\n",
    "meta_df_sample['description_str'] = meta_df_sample['description'].apply(list_to_string)\n",
    "meta_df_sample['details_str'] = meta_df_sample['details'].apply(dict_to_string)\n",
    "\n",
    "# Concatenate the string columns into 'text_feature'\n",
    "meta_df_sample['text_feature'] = (\n",
    "    meta_df_sample['features_str'] + ' ' +\n",
    "    meta_df_sample['description_str'] + ' ' +\n",
    "    meta_df_sample['details_str']\n",
    ")\n"
   ]
  },
  {
   "cell_type": "code",
   "execution_count": 75,
   "metadata": {},
   "outputs": [
    {
     "name": "stdout",
     "output_type": "stream",
     "text": [
      "   rating                                              title  \\\n",
      "0       1                                   Wouldn’t charge.   \n",
      "1       1                                Not worth the money   \n",
      "2       3                        Poor Value.  Too Expensive.   \n",
      "3       5  Cans guide themselves into the correct slot;no...   \n",
      "4       5                    Promotes healthy teeth and gums   \n",
      "\n",
      "                                                text  \\\n",
      "0         Waste of money. They wouldn’t even charge.   \n",
      "1  It was not even close to what it looked online...   \n",
      "2  It’s nice and seems like it will last.  It’s s...   \n",
      "3  We have 13 oz. cans for our indoor cat/outdoor...   \n",
      "4  I give my dog one of these treats right before...   \n",
      "\n",
      "                                              images        asin parent_asin  \\\n",
      "0                                                 []  B08HX33Y53  B0932M1STZ   \n",
      "1                                                 []  B07989JZGP  B07989JZGP   \n",
      "2  [{'small_image_url': 'https://m.media-amazon.c...  B009G9Y4LC  B07BYSHK6R   \n",
      "3                                                 []  B07C9GYLYM  B07C9GYLYM   \n",
      "4                                                 []  B07GC4WP3Z  B08KG7R846   \n",
      "\n",
      "                        user_id                timestamp  helpful_vote  \\\n",
      "0  AFB2D4VH7E7G4WKNEO2OVSVUX2GQ  2022-11-13 23:03:04.572             0   \n",
      "1  AFOMI3JRCN5KSQ5AXAGEDB67KHDA  2022-12-12 18:13:13.347             0   \n",
      "2  AESGFXD3FBBT5LSQJWHT53UAYVVA  2022-12-03 19:55:50.170             0   \n",
      "3  AFVVH5O356EN4Q3AYKPCYB6ANYQA  2019-03-19 08:44:58.594             0   \n",
      "4  AHFNLMHPFW74IWWNKSZMHQCW5J6A  2023-03-06 11:31:36.938             0   \n",
      "\n",
      "   verified_purchase                                       text_feature  \n",
      "0               True  Wouldn’t charge. Waste of money. They wouldn’t...  \n",
      "1               True  Not worth the money It was not even close to w...  \n",
      "2               True  Poor Value.  Too Expensive. It’s nice and seem...  \n",
      "3               True  Cans guide themselves into the correct slot;no...  \n",
      "4               True  Promotes healthy teeth and gums I give my dog ...  \n",
      "              main_category  \\\n",
      "0  Tools & Home Improvement   \n",
      "1              Pet Supplies   \n",
      "2              Pet Supplies   \n",
      "3              Pet Supplies   \n",
      "4              Pet Supplies   \n",
      "\n",
      "                                               title  average_rating  \\\n",
      "0  Zoo Med Nightlight Red Reptile Bulb 100 Watts ...             4.3   \n",
      "1  Gimars Thicker PVC Sturdy Not Collapsing Quick...             4.1   \n",
      "2  Natural Balance L.I.D. Limited Ingredient Diet...             4.1   \n",
      "3  teemerryca Detachable Bow Dog Collar with a Fr...             4.4   \n",
      "4  PetSafe Happy Ride Dog Safety Harness for Cars...             4.1   \n",
      "\n",
      "   rating_number                                           features  \\\n",
      "0             13  [Zoo Med Nightlight Red Reptile Bulb 100 Watts...   \n",
      "1             71  [【Durable Thicker PVC Material & Deep Textured...   \n",
      "2             14  [Contains 1 - 12 Pound Bag Of Dry Dog Food, Gr...   \n",
      "3              5                                                 []   \n",
      "4            226  [CRASH-TEST CERTIFICATION: Small, medium and l...   \n",
      "\n",
      "                                         description  price  \\\n",
      "0                                                 []  22.95   \n",
      "1                                                 []    NaN   \n",
      "2  [Formulated with a limited list of premium pro...    NaN   \n",
      "3                                                 []    NaN   \n",
      "4  [Keep your dog safe and secure on the go with ...  15.95   \n",
      "\n",
      "                                              images  \\\n",
      "0  [{'thumb': 'https://m.media-amazon.com/images/...   \n",
      "1  [{'thumb': 'https://m.media-amazon.com/images/...   \n",
      "2  [{'thumb': 'https://m.media-amazon.com/images/...   \n",
      "3  [{'thumb': 'https://m.media-amazon.com/images/...   \n",
      "4  [{'thumb': 'https://m.media-amazon.com/images/...   \n",
      "\n",
      "                                              videos            store  \\\n",
      "0                                                 []          Zoo Med   \n",
      "1  [{'title': 'I just arrived and it’s leaking', ...           Gimars   \n",
      "2                                                 []  Natural Balance   \n",
      "3                                                 []       TEEMERRYCA   \n",
      "4  [{'title': 'PetSafe Deluxe Car Safety Dog Harn...           Solvit   \n",
      "\n",
      "                                          categories  \\\n",
      "0  ['Pet Supplies', 'Reptiles & Amphibians', 'Ter...   \n",
      "1  ['Pet Supplies', 'Dogs', 'Grooming', 'Shower &...   \n",
      "2            ['Pet Supplies', 'Dogs', 'Food', 'Dry']   \n",
      "3  ['Pet Supplies', 'Dogs', 'Collars, Harnesses &...   \n",
      "4  ['Pet Supplies', 'Dogs', 'Collars, Harnesses &...   \n",
      "\n",
      "                                             details parent_asin  \\\n",
      "0                                                 {}  B07SM1Z4QT   \n",
      "1  {'Brand': 'Gimars', 'Shape': 'Round', 'Materia...  B088DBJYZG   \n",
      "2  {'Brand': 'Natural Balance', 'Flavor': 'Beef',...  B00UNIHKIE   \n",
      "3  {'Pattern': 'Animal Print', 'Material': 'Polye...  B08C34TQBS   \n",
      "4  {'Size': 'X-Large', 'Color': 'Blue', 'Pattern'...  B00JZHRXLI   \n",
      "\n",
      "   bought_together subtitle  author  \\\n",
      "0              NaN      NaN     NaN   \n",
      "1              NaN      NaN     NaN   \n",
      "2              NaN      NaN     NaN   \n",
      "3              NaN      NaN     NaN   \n",
      "4              NaN      NaN     NaN   \n",
      "\n",
      "                                        features_str  \\\n",
      "0  Zoo Med Nightlight Red Reptile Bulb 100 Watts ...   \n",
      "1  【Durable Thicker PVC Material & Deep Textured ...   \n",
      "2  Contains 1 - 12 Pound Bag Of Dry Dog Food Grai...   \n",
      "3                                                      \n",
      "4  CRASH-TEST CERTIFICATION: Small, medium and la...   \n",
      "\n",
      "                                     description_str  \\\n",
      "0                                                      \n",
      "1                                                      \n",
      "2  Formulated with a limited list of premium prot...   \n",
      "3                                                      \n",
      "4  Keep your dog safe and secure on the go with t...   \n",
      "\n",
      "                                         details_str  \\\n",
      "0                                                      \n",
      "1  Brand: Gimars Shape: Round Material: Polyvinyl...   \n",
      "2  Brand: Natural Balance Flavor: Beef Age Range ...   \n",
      "3  Pattern: Animal Print Material: Polyester Bran...   \n",
      "4  Size: X-Large Color: Blue Pattern: Dog Brand: ...   \n",
      "\n",
      "                                        text_feature  \n",
      "0  Zoo Med Nightlight Red Reptile Bulb 100 Watts ...  \n",
      "1  【Durable Thicker PVC Material & Deep Textured ...  \n",
      "2  Contains 1 - 12 Pound Bag Of Dry Dog Food Grai...  \n",
      "3    Pattern: Animal Print Material: Polyester Br...  \n",
      "4  CRASH-TEST CERTIFICATION: Small, medium and la...  \n"
     ]
    }
   ],
   "source": [
    "print(df_sample.head())\n",
    "print(meta_df_sample.head())"
   ]
  },
  {
   "cell_type": "markdown",
   "metadata": {},
   "source": [
    "Combine data"
   ]
  },
  {
   "cell_type": "code",
   "execution_count": 76,
   "metadata": {},
   "outputs": [],
   "source": [
    "combined_df = pd.concat([df_sample[['parent_asin', 'text_feature']],\n",
    "                         meta_df_sample[['parent_asin', 'text_feature']]],\n",
    "                        ignore_index=True)"
   ]
  },
  {
   "cell_type": "code",
   "execution_count": 77,
   "metadata": {},
   "outputs": [
    {
     "name": "stdout",
     "output_type": "stream",
     "text": [
      "     parent_asin                                       text_feature\n",
      "0     B0932M1STZ  Wouldn’t charge. Waste of money. They wouldn’t...\n",
      "1     B07989JZGP  Not worth the money It was not even close to w...\n",
      "2     B07BYSHK6R  Poor Value.  Too Expensive. It’s nice and seem...\n",
      "3     B07C9GYLYM  Cans guide themselves into the correct slot;no...\n",
      "4     B08KG7R846  Promotes healthy teeth and gums I give my dog ...\n",
      "...          ...                                                ...\n",
      "9995  B07VP64XPS  2 TOYS IN ONE: Christmas treat-hiding, inside ...\n",
      "9996  B08WX4RLS6  Bundle includes: Carrot and Dill, Bell Pepper,...\n",
      "9997  B01MY5HJGQ  Wet-type cough symptoms Wet noises in the ches...\n",
      "9998  B08BC1K82X    Package Dimensions: 15.86 x 12.24 x 2.72 inc...\n",
      "9999  B01289JAO2    Is Discontinued By Manufacturer: No Package ...\n",
      "\n",
      "[10000 rows x 2 columns]\n"
     ]
    }
   ],
   "source": [
    "print(combined_df)"
   ]
  },
  {
   "cell_type": "markdown",
   "metadata": {},
   "source": [
    "Handle missing values"
   ]
  },
  {
   "cell_type": "code",
   "execution_count": 79,
   "metadata": {},
   "outputs": [],
   "source": [
    "combined_df['text_feature'] = combined_df['text_feature'].fillna('')\n",
    "combined_df['text_feature'] = combined_df['text_feature'].astype(str)\n"
   ]
  },
  {
   "cell_type": "code",
   "execution_count": 80,
   "metadata": {},
   "outputs": [
    {
     "name": "stdout",
     "output_type": "stream",
     "text": [
      "     parent_asin                                       text_feature\n",
      "0     B0932M1STZ  Wouldn’t charge. Waste of money. They wouldn’t...\n",
      "1     B07989JZGP  Not worth the money It was not even close to w...\n",
      "2     B07BYSHK6R  Poor Value.  Too Expensive. It’s nice and seem...\n",
      "3     B07C9GYLYM  Cans guide themselves into the correct slot;no...\n",
      "4     B08KG7R846  Promotes healthy teeth and gums I give my dog ...\n",
      "...          ...                                                ...\n",
      "9995  B07VP64XPS  2 TOYS IN ONE: Christmas treat-hiding, inside ...\n",
      "9996  B08WX4RLS6  Bundle includes: Carrot and Dill, Bell Pepper,...\n",
      "9997  B01MY5HJGQ  Wet-type cough symptoms Wet noises in the ches...\n",
      "9998  B08BC1K82X    Package Dimensions: 15.86 x 12.24 x 2.72 inc...\n",
      "9999  B01289JAO2    Is Discontinued By Manufacturer: No Package ...\n",
      "\n",
      "[10000 rows x 2 columns]\n"
     ]
    }
   ],
   "source": [
    "print(combined_df)"
   ]
  },
  {
   "cell_type": "markdown",
   "metadata": {},
   "source": [
    "# Model"
   ]
  },
  {
   "cell_type": "code",
   "execution_count": 81,
   "metadata": {},
   "outputs": [],
   "source": [
    "from sklearn.feature_extraction.text import TfidfVectorizer\n",
    "\n",
    "# Initialize the TF-IDF Vectorizer\n",
    "tfidf = TfidfVectorizer(stop_words='english')\n",
    "\n",
    "# Fit and transform the 'text_feature' column\n",
    "tfidf_matrix = tfidf.fit_transform(combined_df['text_feature'])"
   ]
  },
  {
   "cell_type": "code",
   "execution_count": 82,
   "metadata": {},
   "outputs": [],
   "source": [
    "from sklearn.metrics.pairwise import cosine_similarity\n",
    "\n",
    "def recommend_products(user_query, tfidf_matrix, meta_df_sample, top_n=5):\n",
    "    # Transform the user query using the same TF-IDF vectorizer\n",
    "    user_tfidf = tfidf.transform([user_query])\n",
    "    \n",
    "    # Compute cosine similarities between the user query and all product features\n",
    "    cosine_similarities = cosine_similarity(user_tfidf, tfidf_matrix).flatten()\n",
    "    \n",
    "    # Get indices of the top_n products with the highest similarity scores\n",
    "    top_indices = cosine_similarities.argsort()[-top_n:][::-1]\n",
    "    \n",
    "    # Retrieve the corresponding 'parent_asin's\n",
    "    recommended_asins = meta_df_sample.iloc[top_indices]['parent_asin'].values\n",
    "    \n",
    "    return recommended_asins\n"
   ]
  },
  {
   "cell_type": "code",
   "execution_count": 113,
   "metadata": {},
   "outputs": [],
   "source": [
    "def retrieve_product_names(parent_asins, meta_df_sample):\n",
    "    product_dict = meta_df_sample.set_index('parent_asin')['title'].to_dict()\n",
    "    return {asin: product_dict.get(asin, \"Title Not Found\") for asin in parent_asins}"
   ]
  },
  {
   "cell_type": "markdown",
   "metadata": {},
   "source": [
    "Example Usage"
   ]
  },
  {
   "cell_type": "code",
   "execution_count": 115,
   "metadata": {},
   "outputs": [
    {
     "name": "stdout",
     "output_type": "stream",
     "text": [
      "Recommended Products (parent_asin):  {'B0C6HXVHC5': 'Title Not Found', 'B0C4G5G69X': 'Title Not Found', 'B0BS5RC54N': 'Omega 3 for Dogs - Dog Skin and Coat Supplement - Fish Oil for Dogs Chews - Allergy and Dog Itch Relief - Dog Anti Shedding Supplement - Dog Dry Skin Treatment - Salmon Oil - Made in USA - 120 Treats', 'B0BV3F9HN9': 'Title Not Found', 'B00R1XGOQS': 'Bark2Basics Skin Remedy Dog Shampoo, 16 oz - Red Algae Based CTAB, Alleviates Skin Irritations Naturally, Promotes Healing'}\n"
     ]
    }
   ],
   "source": [
    "user_query = \"My dog has itchy skin\"\n",
    "recommended_asins = recommend_products(user_query, tfidf_matrix, combined_df, top_n=5)\n",
    "product_titles = retrieve_product_names(recommended_asins, meta_df_sample)\n",
    "\n",
    "print(\"Recommended Products (parent_asin): \", product_titles)\n",
    "# retrieve_product_names(recommended_asins)\n"
   ]
  },
  {
   "cell_type": "markdown",
   "metadata": {},
   "source": [
    "# Save Model"
   ]
  },
  {
   "cell_type": "code",
   "execution_count": 116,
   "metadata": {},
   "outputs": [],
   "source": [
    "import pickle\n",
    "\n",
    "# Save the TF-IDF Vectorizer and matrix\n",
    "with open(\"tfidf_vectorizer.pkl\", \"wb\") as f:\n",
    "    pickle.dump(tfidf, f)\n",
    "\n",
    "with open(\"tfidf_matrix.pkl\", \"wb\") as f:\n",
    "    pickle.dump(tfidf_matrix, f)"
   ]
  },
  {
   "cell_type": "markdown",
   "metadata": {},
   "source": [
    "# Load Model"
   ]
  },
  {
   "cell_type": "code",
   "execution_count": 117,
   "metadata": {},
   "outputs": [],
   "source": [
    "# Load the saved TF-IDF Vectorizer and matrix\n",
    "with open(\"tfidf_vectorizer.pkl\", \"rb\") as f:\n",
    "    loaded_tfidf = pickle.load(f)\n",
    "\n",
    "with open(\"tfidf_matrix.pkl\", \"rb\") as f:\n",
    "    loaded_tfidf_matrix = pickle.load(f)"
   ]
  },
  {
   "cell_type": "code",
   "execution_count": 125,
   "metadata": {},
   "outputs": [
    {
     "name": "stdout",
     "output_type": "stream",
     "text": [
      "Recommended Products (parent_asin):  {'B006FRYOMC': 'Title Not Found', 'B0C3W7S2RS': 'Title Not Found', 'B085RFM4RZ': 'Amazing Dog Treats - Lamb Trachea (18-20 Count - 10 oz) - Trachea Dog Chews - Natural Source of Glucosamine & Chondroitin for Dogs - Lamb Dog Treats', 'B0CFYP3QB1': 'Title Not Found', 'B000RZPSX2': 'Title Not Found'}\n"
     ]
    }
   ],
   "source": [
    "user_query = \"Dog treats\"\n",
    "recommended_asins = recommend_products(user_query, loaded_tfidf_matrix , combined_df, top_n=5)\n",
    "product_titles = retrieve_product_names(recommended_asins, meta_df_sample)\n",
    "\n",
    "print(\"Recommended Products (parent_asin): \", product_titles)\n",
    "# retrieve_product_names(recommended_asins)\n"
   ]
  }
 ],
 "metadata": {
  "kernelspec": {
   "display_name": "venv",
   "language": "python",
   "name": "python3"
  },
  "language_info": {
   "codemirror_mode": {
    "name": "ipython",
    "version": 3
   },
   "file_extension": ".py",
   "mimetype": "text/x-python",
   "name": "python",
   "nbconvert_exporter": "python",
   "pygments_lexer": "ipython3",
   "version": "3.12.9"
  }
 },
 "nbformat": 4,
 "nbformat_minor": 2
}
