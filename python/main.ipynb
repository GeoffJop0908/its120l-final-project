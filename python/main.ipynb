{
 "cells": [
  {
   "cell_type": "markdown",
   "metadata": {},
   "source": [
    "Reviews"
   ]
  },
  {
   "cell_type": "code",
   "execution_count": 2,
   "metadata": {},
   "outputs": [
    {
     "name": "stdout",
     "output_type": "stream",
     "text": [
      "   rating                                              title  \\\n",
      "0       4  Sticky stair riser tread thingies are utterly ...   \n",
      "1       1  Dangerous bc metal not properly coated! Rough ...   \n",
      "2       3                      Arrived damaged/dented/rusted   \n",
      "3       5                                My pups love these!   \n",
      "4       3                        My pups refuse to eat them.   \n",
      "\n",
      "                                                text  \\\n",
      "0  Tried to load photos, but none of my photos or...   \n",
      "1  Where to begin?  I’ve been trying to get the 2...   \n",
      "2  Unfortunately mine arrived damaged/dented whic...   \n",
      "3  My pups love these!  It’s one of their favorit...   \n",
      "4  Idk why, but my pups will not eat either flavo...   \n",
      "\n",
      "                                              images        asin parent_asin  \\\n",
      "0                                                 []  B084SXF9Y8  B0BHTBS5RM   \n",
      "1  [{'small_image_url': 'https://m.media-amazon.c...  B000QFWCJ6  B0BJ16KKML   \n",
      "2  [{'small_image_url': 'https://m.media-amazon.c...  B08B875X4H  B0BX76YVP9   \n",
      "3                                                 []  B01MFG9AG7  B0BM6V2SH8   \n",
      "4                                                 []  B00KRMMJV4  B0986BSRB1   \n",
      "\n",
      "                        user_id               timestamp  helpful_vote  \\\n",
      "0  AFKZENTNBQ7A7V7UXW5JJI6UGRYQ 2023-02-04 16:48:49.744             0   \n",
      "1  AFKZENTNBQ7A7V7UXW5JJI6UGRYQ 2022-10-11 18:41:13.369             4   \n",
      "2  AFKZENTNBQ7A7V7UXW5JJI6UGRYQ 2022-06-25 00:55:16.820             4   \n",
      "3  AFKZENTNBQ7A7V7UXW5JJI6UGRYQ 2020-05-20 00:17:18.188             0   \n",
      "4  AFKZENTNBQ7A7V7UXW5JJI6UGRYQ 2020-04-25 22:21:43.681             0   \n",
      "\n",
      "   verified_purchase  \n",
      "0               True  \n",
      "1               True  \n",
      "2               True  \n",
      "3               True  \n",
      "4               True  \n"
     ]
    }
   ],
   "source": [
    "import pandas as pd\n",
    "\n",
    "# Define the chunk size\n",
    "chunk_size = 10000  # Adjust based on your system's memory capacity\n",
    "\n",
    "# Initialize an empty list to store DataFrame chunks\n",
    "chunks = []\n",
    "\n",
    "# Read the JSONL file in chunks\n",
    "for chunk in pd.read_json('Pet_Supplies.jsonl', lines=True, chunksize=chunk_size):\n",
    "    chunks.append(chunk)  # Collect each chunk\n",
    "\n",
    "# Concatenate all chunks into a single DataFrame\n",
    "df = pd.concat(chunks, ignore_index=True)\n",
    "\n",
    "# Display the first few rows\n",
    "print(df.head())\n"
   ]
  },
  {
   "cell_type": "markdown",
   "metadata": {},
   "source": [
    "Metadata"
   ]
  },
  {
   "cell_type": "code",
   "execution_count": 3,
   "metadata": {},
   "outputs": [
    {
     "name": "stdout",
     "output_type": "stream",
     "text": [
      "  main_category                                              title  \\\n",
      "0  Pet Supplies  Hurtta Pet Collection 14-Inch Padded Y-Harness...   \n",
      "1  Pet Supplies  Raised Dog Bowls,6 Inch Ceramic Dog Bowl Dish,...   \n",
      "2  Pet Supplies  4 Pack - 4 Inch Ring Filter Socks 200 Micron -...   \n",
      "3  Pet Supplies  SlowTon Dog Vest Harness, Mesh Breathable Pet ...   \n",
      "4  Pet Supplies  Cat Window Perch Durable Cat Hammock Seat for ...   \n",
      "\n",
      "   average_rating  rating_number  \\\n",
      "0             4.4            166   \n",
      "1             4.6            100   \n",
      "2             4.4             84   \n",
      "3             4.5            348   \n",
      "4             4.4            130   \n",
      "\n",
      "                                            features  \\\n",
      "0  [Made from highly durable Neoprene, Fitted wit...   \n",
      "1  [【Two Bowls+Metal Stand+Dog food mat】Really pr...   \n",
      "2  [Micron filter bags provide excellent mechanic...   \n",
      "3  [New Match and Well Made --- The chest part of...   \n",
      "4  [【Ideal for Use Year-around】Cat window perch c...   \n",
      "\n",
      "                                         description  price  \\\n",
      "0  [Hurtta harnesses are suitable for active walk...  24.95   \n",
      "1                                                 []  32.88   \n",
      "2  [Micron filter bags provide excellent mechanic...   15.0   \n",
      "3                                                 []    NaN   \n",
      "4                                                 []  23.99   \n",
      "\n",
      "                                              images  \\\n",
      "0  [{'thumb': 'https://m.media-amazon.com/images/...   \n",
      "1  [{'thumb': 'https://m.media-amazon.com/images/...   \n",
      "2  [{'thumb': 'https://m.media-amazon.com/images/...   \n",
      "3  [{'thumb': 'https://m.media-amazon.com/images/...   \n",
      "4  [{'thumb': 'https://m.media-amazon.com/images/...   \n",
      "\n",
      "                                              videos          store  \\\n",
      "0                                                 []         Hurtta   \n",
      "1  [{'title': 'Ihoming Ceramic Bowls for Dogs and...        FIVEAGE   \n",
      "2                                                 []  Encompass All   \n",
      "3                                                 []        SlowTon   \n",
      "4  [{'title': 'Cat Window Perch Beige Assembly Vi...          Mewoo   \n",
      "\n",
      "                                          categories  \\\n",
      "0  [Pet Supplies, Dogs, Collars, Harnesses & Leas...   \n",
      "1  [Pet Supplies, Dogs, Feeding & Watering Suppli...   \n",
      "2                                                 []   \n",
      "3  [Pet Supplies, Dogs, Collars, Harnesses & Leas...   \n",
      "4   [Pet Supplies, Cats, Beds & Furniture, Hammocks]   \n",
      "\n",
      "                                             details parent_asin  \\\n",
      "0  {'Size': '14 Inch', 'Color': 'Pink', 'Pattern'...  B00XJG2SLG   \n",
      "1  {'Material': 'Ceramic', 'Target Species': 'Cat...  B0BD6TXL2G   \n",
      "2  {'Is Discontinued By Manufacturer': 'No', 'Pro...  B01MQTWB5H   \n",
      "3  {'Size': 'Large', 'Color': 'Purple', 'Pattern'...  B07DYM6LXD   \n",
      "4  {'Brand': 'Mewoo', 'Color': 'Blue,Grey,Beige',...  B09ZTMTS6N   \n",
      "\n",
      "   bought_together subtitle author  \n",
      "0              NaN      NaN    NaN  \n",
      "1              NaN      NaN    NaN  \n",
      "2              NaN      NaN    NaN  \n",
      "3              NaN      NaN    NaN  \n",
      "4              NaN      NaN    NaN  \n"
     ]
    }
   ],
   "source": [
    "meta_chunks = []\n",
    "\n",
    "# Read the JSONL file in chunks\n",
    "for meta_chunk in pd.read_json('meta_Pet_Supplies.jsonl', lines=True, chunksize=chunk_size):\n",
    "    meta_chunks.append(meta_chunk)  # Collect each chunk\n",
    "\n",
    "# Concatenate all chunks into a single DataFrame\n",
    "meta_df = pd.concat(meta_chunks, ignore_index=True)\n",
    "\n",
    "# Display the first few rows\n",
    "print(meta_df.head())\n"
   ]
  },
  {
   "cell_type": "markdown",
   "metadata": {},
   "source": [
    "Check Columns"
   ]
  },
  {
   "cell_type": "code",
   "execution_count": 4,
   "metadata": {},
   "outputs": [
    {
     "name": "stdout",
     "output_type": "stream",
     "text": [
      "['rating' 'title' 'text' 'images' 'asin' 'parent_asin' 'user_id'\n",
      " 'timestamp' 'helpful_vote' 'verified_purchase']\n",
      "['main_category' 'title' 'average_rating' 'rating_number' 'features'\n",
      " 'description' 'price' 'images' 'videos' 'store' 'categories' 'details'\n",
      " 'parent_asin' 'bought_together' 'subtitle' 'author']\n"
     ]
    }
   ],
   "source": [
    "pd.set_option('display.max_columns', None)\n",
    "print(df.columns.values)\n",
    "print(meta_df.columns.values)"
   ]
  },
  {
   "cell_type": "markdown",
   "metadata": {},
   "source": [
    "Grab Sample"
   ]
  },
  {
   "cell_type": "code",
   "execution_count": 23,
   "metadata": {},
   "outputs": [],
   "source": [
    "reviews_sample_size = 50_000  # Adjust based on your memory capacity\n",
    "metadata_sample_size = 50_000  # Adjust as needed\n",
    "\n",
    "# Extract random samples\n",
    "df_sample = df.sample(n=reviews_sample_size, random_state=42)\n",
    "meta_df_sample = meta_df.sample(n=metadata_sample_size, random_state=42)"
   ]
  },
  {
   "cell_type": "code",
   "execution_count": 21,
   "metadata": {},
   "outputs": [
    {
     "name": "stdout",
     "output_type": "stream",
     "text": [
      "100000\n",
      "100000\n"
     ]
    }
   ],
   "source": [
    "print(len(df_sample))\n",
    "print(len(meta_df_sample))"
   ]
  },
  {
   "cell_type": "markdown",
   "metadata": {},
   "source": [
    "Merge metadata and reviews sample via parent_asin"
   ]
  },
  {
   "cell_type": "code",
   "execution_count": 22,
   "metadata": {},
   "outputs": [
    {
     "ename": "KeyboardInterrupt",
     "evalue": "",
     "output_type": "error",
     "traceback": [
      "\u001b[31m---------------------------------------------------------------------------\u001b[39m",
      "\u001b[31mKeyboardInterrupt\u001b[39m                         Traceback (most recent call last)",
      "\u001b[36mCell\u001b[39m\u001b[36m \u001b[39m\u001b[32mIn[22]\u001b[39m\u001b[32m, line 1\u001b[39m\n\u001b[32m----> \u001b[39m\u001b[32m1\u001b[39m merged_df = \u001b[43mpd\u001b[49m\u001b[43m.\u001b[49m\u001b[43mmerge\u001b[49m\u001b[43m(\u001b[49m\u001b[43mdf_sample\u001b[49m\u001b[43m,\u001b[49m\u001b[43m \u001b[49m\u001b[43mmeta_df_sample\u001b[49m\u001b[43m,\u001b[49m\u001b[43m \u001b[49m\u001b[43mon\u001b[49m\u001b[43m=\u001b[49m\u001b[33;43m'\u001b[39;49m\u001b[33;43mparent_asin\u001b[39;49m\u001b[33;43m'\u001b[39;49m\u001b[43m,\u001b[49m\u001b[43m \u001b[49m\u001b[43mhow\u001b[49m\u001b[43m=\u001b[49m\u001b[33;43m'\u001b[39;49m\u001b[33;43minner\u001b[39;49m\u001b[33;43m'\u001b[39;49m\u001b[43m)\u001b[49m\n",
      "\u001b[36mFile \u001b[39m\u001b[32mc:\\Users\\Geoff Patag\\Desktop\\School\\ITS120L\\Project\\its120l-final-project\\python\\venv\\Lib\\site-packages\\pandas\\core\\reshape\\merge.py:170\u001b[39m, in \u001b[36mmerge\u001b[39m\u001b[34m(left, right, how, on, left_on, right_on, left_index, right_index, sort, suffixes, copy, indicator, validate)\u001b[39m\n\u001b[32m    155\u001b[39m     \u001b[38;5;28;01mreturn\u001b[39;00m _cross_merge(\n\u001b[32m    156\u001b[39m         left_df,\n\u001b[32m    157\u001b[39m         right_df,\n\u001b[32m   (...)\u001b[39m\u001b[32m    167\u001b[39m         copy=copy,\n\u001b[32m    168\u001b[39m     )\n\u001b[32m    169\u001b[39m \u001b[38;5;28;01melse\u001b[39;00m:\n\u001b[32m--> \u001b[39m\u001b[32m170\u001b[39m     op = \u001b[43m_MergeOperation\u001b[49m\u001b[43m(\u001b[49m\n\u001b[32m    171\u001b[39m \u001b[43m        \u001b[49m\u001b[43mleft_df\u001b[49m\u001b[43m,\u001b[49m\n\u001b[32m    172\u001b[39m \u001b[43m        \u001b[49m\u001b[43mright_df\u001b[49m\u001b[43m,\u001b[49m\n\u001b[32m    173\u001b[39m \u001b[43m        \u001b[49m\u001b[43mhow\u001b[49m\u001b[43m=\u001b[49m\u001b[43mhow\u001b[49m\u001b[43m,\u001b[49m\n\u001b[32m    174\u001b[39m \u001b[43m        \u001b[49m\u001b[43mon\u001b[49m\u001b[43m=\u001b[49m\u001b[43mon\u001b[49m\u001b[43m,\u001b[49m\n\u001b[32m    175\u001b[39m \u001b[43m        \u001b[49m\u001b[43mleft_on\u001b[49m\u001b[43m=\u001b[49m\u001b[43mleft_on\u001b[49m\u001b[43m,\u001b[49m\n\u001b[32m    176\u001b[39m \u001b[43m        \u001b[49m\u001b[43mright_on\u001b[49m\u001b[43m=\u001b[49m\u001b[43mright_on\u001b[49m\u001b[43m,\u001b[49m\n\u001b[32m    177\u001b[39m \u001b[43m        \u001b[49m\u001b[43mleft_index\u001b[49m\u001b[43m=\u001b[49m\u001b[43mleft_index\u001b[49m\u001b[43m,\u001b[49m\n\u001b[32m    178\u001b[39m \u001b[43m        \u001b[49m\u001b[43mright_index\u001b[49m\u001b[43m=\u001b[49m\u001b[43mright_index\u001b[49m\u001b[43m,\u001b[49m\n\u001b[32m    179\u001b[39m \u001b[43m        \u001b[49m\u001b[43msort\u001b[49m\u001b[43m=\u001b[49m\u001b[43msort\u001b[49m\u001b[43m,\u001b[49m\n\u001b[32m    180\u001b[39m \u001b[43m        \u001b[49m\u001b[43msuffixes\u001b[49m\u001b[43m=\u001b[49m\u001b[43msuffixes\u001b[49m\u001b[43m,\u001b[49m\n\u001b[32m    181\u001b[39m \u001b[43m        \u001b[49m\u001b[43mindicator\u001b[49m\u001b[43m=\u001b[49m\u001b[43mindicator\u001b[49m\u001b[43m,\u001b[49m\n\u001b[32m    182\u001b[39m \u001b[43m        \u001b[49m\u001b[43mvalidate\u001b[49m\u001b[43m=\u001b[49m\u001b[43mvalidate\u001b[49m\u001b[43m,\u001b[49m\n\u001b[32m    183\u001b[39m \u001b[43m    \u001b[49m\u001b[43m)\u001b[49m\n\u001b[32m    184\u001b[39m     \u001b[38;5;28;01mreturn\u001b[39;00m op.get_result(copy=copy)\n",
      "\u001b[36mFile \u001b[39m\u001b[32mc:\\Users\\Geoff Patag\\Desktop\\School\\ITS120L\\Project\\its120l-final-project\\python\\venv\\Lib\\site-packages\\pandas\\core\\reshape\\merge.py:800\u001b[39m, in \u001b[36m_MergeOperation.__init__\u001b[39m\u001b[34m(self, left, right, how, on, left_on, right_on, left_index, right_index, sort, suffixes, indicator, validate)\u001b[39m\n\u001b[32m    797\u001b[39m     \u001b[38;5;28mself\u001b[39m.left = \u001b[38;5;28mself\u001b[39m.left._drop_labels_or_levels(left_drop)\n\u001b[32m    799\u001b[39m \u001b[38;5;28;01mif\u001b[39;00m right_drop:\n\u001b[32m--> \u001b[39m\u001b[32m800\u001b[39m     \u001b[38;5;28mself\u001b[39m.right = \u001b[38;5;28;43mself\u001b[39;49m\u001b[43m.\u001b[49m\u001b[43mright\u001b[49m\u001b[43m.\u001b[49m\u001b[43m_drop_labels_or_levels\u001b[49m\u001b[43m(\u001b[49m\u001b[43mright_drop\u001b[49m\u001b[43m)\u001b[49m\n\u001b[32m    802\u001b[39m \u001b[38;5;28mself\u001b[39m._maybe_require_matching_dtypes(\u001b[38;5;28mself\u001b[39m.left_join_keys, \u001b[38;5;28mself\u001b[39m.right_join_keys)\n\u001b[32m    803\u001b[39m \u001b[38;5;28mself\u001b[39m._validate_tolerance(\u001b[38;5;28mself\u001b[39m.left_join_keys)\n",
      "\u001b[36mFile \u001b[39m\u001b[32mc:\\Users\\Geoff Patag\\Desktop\\School\\ITS120L\\Project\\its120l-final-project\\python\\venv\\Lib\\site-packages\\pandas\\core\\generic.py:1989\u001b[39m, in \u001b[36mNDFrame._drop_labels_or_levels\u001b[39m\u001b[34m(self, keys, axis)\u001b[39m\n\u001b[32m   1987\u001b[39m     \u001b[38;5;66;03m# Handle dropping columns labels\u001b[39;00m\n\u001b[32m   1988\u001b[39m     \u001b[38;5;28;01mif\u001b[39;00m labels_to_drop:\n\u001b[32m-> \u001b[39m\u001b[32m1989\u001b[39m         \u001b[43mdropped\u001b[49m\u001b[43m.\u001b[49m\u001b[43mdrop\u001b[49m\u001b[43m(\u001b[49m\u001b[43mlabels_to_drop\u001b[49m\u001b[43m,\u001b[49m\u001b[43m \u001b[49m\u001b[43maxis\u001b[49m\u001b[43m=\u001b[49m\u001b[32;43m1\u001b[39;49m\u001b[43m,\u001b[49m\u001b[43m \u001b[49m\u001b[43minplace\u001b[49m\u001b[43m=\u001b[49m\u001b[38;5;28;43;01mTrue\u001b[39;49;00m\u001b[43m)\u001b[49m\n\u001b[32m   1990\u001b[39m \u001b[38;5;28;01melse\u001b[39;00m:\n\u001b[32m   1991\u001b[39m     \u001b[38;5;66;03m# Handle dropping column levels\u001b[39;00m\n\u001b[32m   1992\u001b[39m     \u001b[38;5;28;01mif\u001b[39;00m levels_to_drop:\n",
      "\u001b[36mFile \u001b[39m\u001b[32mc:\\Users\\Geoff Patag\\Desktop\\School\\ITS120L\\Project\\its120l-final-project\\python\\venv\\Lib\\site-packages\\pandas\\core\\frame.py:5581\u001b[39m, in \u001b[36mDataFrame.drop\u001b[39m\u001b[34m(self, labels, axis, index, columns, level, inplace, errors)\u001b[39m\n\u001b[32m   5433\u001b[39m \u001b[38;5;28;01mdef\u001b[39;00m\u001b[38;5;250m \u001b[39m\u001b[34mdrop\u001b[39m(\n\u001b[32m   5434\u001b[39m     \u001b[38;5;28mself\u001b[39m,\n\u001b[32m   5435\u001b[39m     labels: IndexLabel | \u001b[38;5;28;01mNone\u001b[39;00m = \u001b[38;5;28;01mNone\u001b[39;00m,\n\u001b[32m   (...)\u001b[39m\u001b[32m   5442\u001b[39m     errors: IgnoreRaise = \u001b[33m\"\u001b[39m\u001b[33mraise\u001b[39m\u001b[33m\"\u001b[39m,\n\u001b[32m   5443\u001b[39m ) -> DataFrame | \u001b[38;5;28;01mNone\u001b[39;00m:\n\u001b[32m   5444\u001b[39m \u001b[38;5;250m    \u001b[39m\u001b[33;03m\"\"\"\u001b[39;00m\n\u001b[32m   5445\u001b[39m \u001b[33;03m    Drop specified labels from rows or columns.\u001b[39;00m\n\u001b[32m   5446\u001b[39m \n\u001b[32m   (...)\u001b[39m\u001b[32m   5579\u001b[39m \u001b[33;03m            weight  1.0     0.8\u001b[39;00m\n\u001b[32m   5580\u001b[39m \u001b[33;03m    \"\"\"\u001b[39;00m\n\u001b[32m-> \u001b[39m\u001b[32m5581\u001b[39m     \u001b[38;5;28;01mreturn\u001b[39;00m \u001b[38;5;28;43msuper\u001b[39;49m\u001b[43m(\u001b[49m\u001b[43m)\u001b[49m\u001b[43m.\u001b[49m\u001b[43mdrop\u001b[49m\u001b[43m(\u001b[49m\n\u001b[32m   5582\u001b[39m \u001b[43m        \u001b[49m\u001b[43mlabels\u001b[49m\u001b[43m=\u001b[49m\u001b[43mlabels\u001b[49m\u001b[43m,\u001b[49m\n\u001b[32m   5583\u001b[39m \u001b[43m        \u001b[49m\u001b[43maxis\u001b[49m\u001b[43m=\u001b[49m\u001b[43maxis\u001b[49m\u001b[43m,\u001b[49m\n\u001b[32m   5584\u001b[39m \u001b[43m        \u001b[49m\u001b[43mindex\u001b[49m\u001b[43m=\u001b[49m\u001b[43mindex\u001b[49m\u001b[43m,\u001b[49m\n\u001b[32m   5585\u001b[39m \u001b[43m        \u001b[49m\u001b[43mcolumns\u001b[49m\u001b[43m=\u001b[49m\u001b[43mcolumns\u001b[49m\u001b[43m,\u001b[49m\n\u001b[32m   5586\u001b[39m \u001b[43m        \u001b[49m\u001b[43mlevel\u001b[49m\u001b[43m=\u001b[49m\u001b[43mlevel\u001b[49m\u001b[43m,\u001b[49m\n\u001b[32m   5587\u001b[39m \u001b[43m        \u001b[49m\u001b[43minplace\u001b[49m\u001b[43m=\u001b[49m\u001b[43minplace\u001b[49m\u001b[43m,\u001b[49m\n\u001b[32m   5588\u001b[39m \u001b[43m        \u001b[49m\u001b[43merrors\u001b[49m\u001b[43m=\u001b[49m\u001b[43merrors\u001b[49m\u001b[43m,\u001b[49m\n\u001b[32m   5589\u001b[39m \u001b[43m    \u001b[49m\u001b[43m)\u001b[49m\n",
      "\u001b[36mFile \u001b[39m\u001b[32mc:\\Users\\Geoff Patag\\Desktop\\School\\ITS120L\\Project\\its120l-final-project\\python\\venv\\Lib\\site-packages\\pandas\\core\\generic.py:4788\u001b[39m, in \u001b[36mNDFrame.drop\u001b[39m\u001b[34m(self, labels, axis, index, columns, level, inplace, errors)\u001b[39m\n\u001b[32m   4786\u001b[39m \u001b[38;5;28;01mfor\u001b[39;00m axis, labels \u001b[38;5;129;01min\u001b[39;00m axes.items():\n\u001b[32m   4787\u001b[39m     \u001b[38;5;28;01mif\u001b[39;00m labels \u001b[38;5;129;01mis\u001b[39;00m \u001b[38;5;129;01mnot\u001b[39;00m \u001b[38;5;28;01mNone\u001b[39;00m:\n\u001b[32m-> \u001b[39m\u001b[32m4788\u001b[39m         obj = \u001b[43mobj\u001b[49m\u001b[43m.\u001b[49m\u001b[43m_drop_axis\u001b[49m\u001b[43m(\u001b[49m\u001b[43mlabels\u001b[49m\u001b[43m,\u001b[49m\u001b[43m \u001b[49m\u001b[43maxis\u001b[49m\u001b[43m,\u001b[49m\u001b[43m \u001b[49m\u001b[43mlevel\u001b[49m\u001b[43m=\u001b[49m\u001b[43mlevel\u001b[49m\u001b[43m,\u001b[49m\u001b[43m \u001b[49m\u001b[43merrors\u001b[49m\u001b[43m=\u001b[49m\u001b[43merrors\u001b[49m\u001b[43m)\u001b[49m\n\u001b[32m   4790\u001b[39m \u001b[38;5;28;01mif\u001b[39;00m inplace:\n\u001b[32m   4791\u001b[39m     \u001b[38;5;28mself\u001b[39m._update_inplace(obj)\n",
      "\u001b[36mFile \u001b[39m\u001b[32mc:\\Users\\Geoff Patag\\Desktop\\School\\ITS120L\\Project\\its120l-final-project\\python\\venv\\Lib\\site-packages\\pandas\\core\\generic.py:4869\u001b[39m, in \u001b[36mNDFrame._drop_axis\u001b[39m\u001b[34m(self, labels, axis, level, errors, only_slice)\u001b[39m\n\u001b[32m   4866\u001b[39m     new_axis = axis.take(indexer)\n\u001b[32m   4868\u001b[39m bm_axis = \u001b[38;5;28mself\u001b[39m.ndim - axis_num - \u001b[32m1\u001b[39m\n\u001b[32m-> \u001b[39m\u001b[32m4869\u001b[39m new_mgr = \u001b[38;5;28;43mself\u001b[39;49m\u001b[43m.\u001b[49m\u001b[43m_mgr\u001b[49m\u001b[43m.\u001b[49m\u001b[43mreindex_indexer\u001b[49m\u001b[43m(\u001b[49m\n\u001b[32m   4870\u001b[39m \u001b[43m    \u001b[49m\u001b[43mnew_axis\u001b[49m\u001b[43m,\u001b[49m\n\u001b[32m   4871\u001b[39m \u001b[43m    \u001b[49m\u001b[43mindexer\u001b[49m\u001b[43m,\u001b[49m\n\u001b[32m   4872\u001b[39m \u001b[43m    \u001b[49m\u001b[43maxis\u001b[49m\u001b[43m=\u001b[49m\u001b[43mbm_axis\u001b[49m\u001b[43m,\u001b[49m\n\u001b[32m   4873\u001b[39m \u001b[43m    \u001b[49m\u001b[43mallow_dups\u001b[49m\u001b[43m=\u001b[49m\u001b[38;5;28;43;01mTrue\u001b[39;49;00m\u001b[43m,\u001b[49m\n\u001b[32m   4874\u001b[39m \u001b[43m    \u001b[49m\u001b[43mcopy\u001b[49m\u001b[43m=\u001b[49m\u001b[38;5;28;43;01mNone\u001b[39;49;00m\u001b[43m,\u001b[49m\n\u001b[32m   4875\u001b[39m \u001b[43m    \u001b[49m\u001b[43monly_slice\u001b[49m\u001b[43m=\u001b[49m\u001b[43monly_slice\u001b[49m\u001b[43m,\u001b[49m\n\u001b[32m   4876\u001b[39m \u001b[43m\u001b[49m\u001b[43m)\u001b[49m\n\u001b[32m   4877\u001b[39m result = \u001b[38;5;28mself\u001b[39m._constructor_from_mgr(new_mgr, axes=new_mgr.axes)\n\u001b[32m   4878\u001b[39m \u001b[38;5;28;01mif\u001b[39;00m \u001b[38;5;28mself\u001b[39m.ndim == \u001b[32m1\u001b[39m:\n",
      "\u001b[36mFile \u001b[39m\u001b[32mc:\\Users\\Geoff Patag\\Desktop\\School\\ITS120L\\Project\\its120l-final-project\\python\\venv\\Lib\\site-packages\\pandas\\core\\internals\\managers.py:680\u001b[39m, in \u001b[36mBaseBlockManager.reindex_indexer\u001b[39m\u001b[34m(self, new_axis, indexer, axis, fill_value, allow_dups, copy, only_slice, use_na_proxy)\u001b[39m\n\u001b[32m    677\u001b[39m     \u001b[38;5;28;01mraise\u001b[39;00m \u001b[38;5;167;01mIndexError\u001b[39;00m(\u001b[33m\"\u001b[39m\u001b[33mRequested axis not found in manager\u001b[39m\u001b[33m\"\u001b[39m)\n\u001b[32m    679\u001b[39m \u001b[38;5;28;01mif\u001b[39;00m axis == \u001b[32m0\u001b[39m:\n\u001b[32m--> \u001b[39m\u001b[32m680\u001b[39m     new_blocks = \u001b[38;5;28;43mself\u001b[39;49m\u001b[43m.\u001b[49m\u001b[43m_slice_take_blocks_ax0\u001b[49m\u001b[43m(\u001b[49m\n\u001b[32m    681\u001b[39m \u001b[43m        \u001b[49m\u001b[43mindexer\u001b[49m\u001b[43m,\u001b[49m\n\u001b[32m    682\u001b[39m \u001b[43m        \u001b[49m\u001b[43mfill_value\u001b[49m\u001b[43m=\u001b[49m\u001b[43mfill_value\u001b[49m\u001b[43m,\u001b[49m\n\u001b[32m    683\u001b[39m \u001b[43m        \u001b[49m\u001b[43monly_slice\u001b[49m\u001b[43m=\u001b[49m\u001b[43monly_slice\u001b[49m\u001b[43m,\u001b[49m\n\u001b[32m    684\u001b[39m \u001b[43m        \u001b[49m\u001b[43muse_na_proxy\u001b[49m\u001b[43m=\u001b[49m\u001b[43muse_na_proxy\u001b[49m\u001b[43m,\u001b[49m\n\u001b[32m    685\u001b[39m \u001b[43m    \u001b[49m\u001b[43m)\u001b[49m\n\u001b[32m    686\u001b[39m \u001b[38;5;28;01melse\u001b[39;00m:\n\u001b[32m    687\u001b[39m     new_blocks = [\n\u001b[32m    688\u001b[39m         blk.take_nd(\n\u001b[32m    689\u001b[39m             indexer,\n\u001b[32m   (...)\u001b[39m\u001b[32m    695\u001b[39m         \u001b[38;5;28;01mfor\u001b[39;00m blk \u001b[38;5;129;01min\u001b[39;00m \u001b[38;5;28mself\u001b[39m.blocks\n\u001b[32m    696\u001b[39m     ]\n",
      "\u001b[36mFile \u001b[39m\u001b[32mc:\\Users\\Geoff Patag\\Desktop\\School\\ITS120L\\Project\\its120l-final-project\\python\\venv\\Lib\\site-packages\\pandas\\core\\internals\\managers.py:843\u001b[39m, in \u001b[36mBaseBlockManager._slice_take_blocks_ax0\u001b[39m\u001b[34m(self, slice_or_indexer, fill_value, only_slice, use_na_proxy, ref_inplace_op)\u001b[39m\n\u001b[32m    841\u001b[39m                     blocks.append(nb)\n\u001b[32m    842\u001b[39m             \u001b[38;5;28;01melse\u001b[39;00m:\n\u001b[32m--> \u001b[39m\u001b[32m843\u001b[39m                 nb = \u001b[43mblk\u001b[49m\u001b[43m.\u001b[49m\u001b[43mtake_nd\u001b[49m\u001b[43m(\u001b[49m\u001b[43mtaker\u001b[49m\u001b[43m,\u001b[49m\u001b[43m \u001b[49m\u001b[43maxis\u001b[49m\u001b[43m=\u001b[49m\u001b[32;43m0\u001b[39;49m\u001b[43m,\u001b[49m\u001b[43m \u001b[49m\u001b[43mnew_mgr_locs\u001b[49m\u001b[43m=\u001b[49m\u001b[43mmgr_locs\u001b[49m\u001b[43m)\u001b[49m\n\u001b[32m    844\u001b[39m                 blocks.append(nb)\n\u001b[32m    846\u001b[39m \u001b[38;5;28;01mreturn\u001b[39;00m blocks\n",
      "\u001b[36mFile \u001b[39m\u001b[32mc:\\Users\\Geoff Patag\\Desktop\\School\\ITS120L\\Project\\its120l-final-project\\python\\venv\\Lib\\site-packages\\pandas\\core\\internals\\blocks.py:1325\u001b[39m, in \u001b[36mBlock.take_nd\u001b[39m\u001b[34m(self, indexer, axis, new_mgr_locs, fill_value)\u001b[39m\n\u001b[32m   1323\u001b[39m     \u001b[38;5;28;01mreturn\u001b[39;00m \u001b[38;5;28mself\u001b[39m.make_block(new_values, new_mgr_locs)\n\u001b[32m   1324\u001b[39m \u001b[38;5;28;01melse\u001b[39;00m:\n\u001b[32m-> \u001b[39m\u001b[32m1325\u001b[39m     \u001b[38;5;28;01mreturn\u001b[39;00m \u001b[38;5;28;43mself\u001b[39;49m\u001b[43m.\u001b[49m\u001b[43mmake_block_same_class\u001b[49m\u001b[43m(\u001b[49m\u001b[43mnew_values\u001b[49m\u001b[43m,\u001b[49m\u001b[43m \u001b[49m\u001b[43mnew_mgr_locs\u001b[49m\u001b[43m)\u001b[49m\n",
      "\u001b[36mFile \u001b[39m\u001b[32mc:\\Users\\Geoff Patag\\Desktop\\School\\ITS120L\\Project\\its120l-final-project\\python\\venv\\Lib\\site-packages\\pandas\\core\\internals\\blocks.py:292\u001b[39m, in \u001b[36mBlock.make_block_same_class\u001b[39m\u001b[34m(self, values, placement, refs)\u001b[39m\n\u001b[32m    288\u001b[39m         values = ensure_block_shape(values, ndim=\u001b[38;5;28mself\u001b[39m.ndim)\n\u001b[32m    290\u001b[39m     \u001b[38;5;28;01mreturn\u001b[39;00m new_block(values, placement=placement, ndim=\u001b[38;5;28mself\u001b[39m.ndim, refs=refs)\n\u001b[32m--> \u001b[39m\u001b[32m292\u001b[39m \u001b[38;5;129m@final\u001b[39m\n\u001b[32m    293\u001b[39m \u001b[38;5;28;01mdef\u001b[39;00m\u001b[38;5;250m \u001b[39m\u001b[34mmake_block_same_class\u001b[39m(\n\u001b[32m    294\u001b[39m     \u001b[38;5;28mself\u001b[39m,\n\u001b[32m    295\u001b[39m     values,\n\u001b[32m    296\u001b[39m     placement: BlockPlacement | \u001b[38;5;28;01mNone\u001b[39;00m = \u001b[38;5;28;01mNone\u001b[39;00m,\n\u001b[32m    297\u001b[39m     refs: BlockValuesRefs | \u001b[38;5;28;01mNone\u001b[39;00m = \u001b[38;5;28;01mNone\u001b[39;00m,\n\u001b[32m    298\u001b[39m ) -> Self:\n\u001b[32m    299\u001b[39m \u001b[38;5;250m    \u001b[39m\u001b[33;03m\"\"\"Wrap given values in a block of same type as self.\"\"\"\u001b[39;00m\n\u001b[32m    300\u001b[39m     \u001b[38;5;66;03m# Pre-2.0 we called ensure_wrapped_if_datetimelike because fastparquet\u001b[39;00m\n\u001b[32m    301\u001b[39m     \u001b[38;5;66;03m#  relied on it, as of 2.0 the caller is responsible for this.\u001b[39;00m\n",
      "\u001b[31mKeyboardInterrupt\u001b[39m: "
     ]
    }
   ],
   "source": [
    "merged_df = pd.merge(df_sample, meta_df_sample, on='parent_asin', how='inner')"
   ]
  }
 ],
 "metadata": {
  "kernelspec": {
   "display_name": "venv",
   "language": "python",
   "name": "python3"
  },
  "language_info": {
   "codemirror_mode": {
    "name": "ipython",
    "version": 3
   },
   "file_extension": ".py",
   "mimetype": "text/x-python",
   "name": "python",
   "nbconvert_exporter": "python",
   "pygments_lexer": "ipython3",
   "version": "3.12.9"
  }
 },
 "nbformat": 4,
 "nbformat_minor": 2
}
