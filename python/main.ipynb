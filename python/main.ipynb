{
 "cells": [
  {
   "cell_type": "markdown",
   "metadata": {},
   "source": [
    "Reviews"
   ]
  },
  {
   "cell_type": "code",
   "execution_count": 2,
   "metadata": {},
   "outputs": [
    {
     "name": "stdout",
     "output_type": "stream",
     "text": [
      "   rating                                              title  \\\n",
      "0       4  Sticky stair riser tread thingies are utterly ...   \n",
      "1       1  Dangerous bc metal not properly coated! Rough ...   \n",
      "2       3                      Arrived damaged/dented/rusted   \n",
      "3       5                                My pups love these!   \n",
      "4       3                        My pups refuse to eat them.   \n",
      "\n",
      "                                                text  \\\n",
      "0  Tried to load photos, but none of my photos or...   \n",
      "1  Where to begin?  I’ve been trying to get the 2...   \n",
      "2  Unfortunately mine arrived damaged/dented whic...   \n",
      "3  My pups love these!  It’s one of their favorit...   \n",
      "4  Idk why, but my pups will not eat either flavo...   \n",
      "\n",
      "                                              images        asin parent_asin  \\\n",
      "0                                                 []  B084SXF9Y8  B0BHTBS5RM   \n",
      "1  [{'small_image_url': 'https://m.media-amazon.c...  B000QFWCJ6  B0BJ16KKML   \n",
      "2  [{'small_image_url': 'https://m.media-amazon.c...  B08B875X4H  B0BX76YVP9   \n",
      "3                                                 []  B01MFG9AG7  B0BM6V2SH8   \n",
      "4                                                 []  B00KRMMJV4  B0986BSRB1   \n",
      "\n",
      "                        user_id               timestamp  helpful_vote  \\\n",
      "0  AFKZENTNBQ7A7V7UXW5JJI6UGRYQ 2023-02-04 16:48:49.744             0   \n",
      "1  AFKZENTNBQ7A7V7UXW5JJI6UGRYQ 2022-10-11 18:41:13.369             4   \n",
      "2  AFKZENTNBQ7A7V7UXW5JJI6UGRYQ 2022-06-25 00:55:16.820             4   \n",
      "3  AFKZENTNBQ7A7V7UXW5JJI6UGRYQ 2020-05-20 00:17:18.188             0   \n",
      "4  AFKZENTNBQ7A7V7UXW5JJI6UGRYQ 2020-04-25 22:21:43.681             0   \n",
      "\n",
      "   verified_purchase  \n",
      "0               True  \n",
      "1               True  \n",
      "2               True  \n",
      "3               True  \n",
      "4               True  \n"
     ]
    }
   ],
   "source": [
    "import pandas as pd\n",
    "\n",
    "# Define the chunk size\n",
    "chunk_size = 10000  # Adjust based on your system's memory capacity\n",
    "\n",
    "# Initialize an empty list to store DataFrame chunks\n",
    "chunks = []\n",
    "\n",
    "# Read the JSONL file in chunks\n",
    "for chunk in pd.read_json('Pet_Supplies.jsonl', lines=True, chunksize=chunk_size):\n",
    "    chunks.append(chunk)  # Collect each chunk\n",
    "\n",
    "# Concatenate all chunks into a single DataFrame\n",
    "df = pd.concat(chunks, ignore_index=True)\n",
    "\n",
    "# Display the first few rows\n",
    "print(df.head())\n"
   ]
  },
  {
   "cell_type": "markdown",
   "metadata": {},
   "source": [
    "Metadata"
   ]
  },
  {
   "cell_type": "code",
   "execution_count": null,
   "metadata": {},
   "outputs": [],
   "source": [
    "meta_chunks = []\n",
    "\n",
    "# Read the JSONL file in chunks\n",
    "for meta_chunk in pd.read_json('meta_Pet_Supplies.jsonl', lines=True, chunksize=chunk_size):\n",
    "    meta_chunks.append(meta_chunk)  # Collect each chunk\n",
    "\n",
    "# Concatenate all chunks into a single DataFrame\n",
    "meta_df = pd.concat(meta_chunks, ignore_index=True)\n",
    "\n",
    "# Display the first few rows\n",
    "print(meta_df.head())\n"
   ]
  }
 ],
 "metadata": {
  "kernelspec": {
   "display_name": "venv",
   "language": "python",
   "name": "python3"
  },
  "language_info": {
   "codemirror_mode": {
    "name": "ipython",
    "version": 3
   },
   "file_extension": ".py",
   "mimetype": "text/x-python",
   "name": "python",
   "nbconvert_exporter": "python",
   "pygments_lexer": "ipython3",
   "version": "3.12.9"
  }
 },
 "nbformat": 4,
 "nbformat_minor": 2
}
