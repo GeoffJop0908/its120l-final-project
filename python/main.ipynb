{
 "cells": [
  {
   "cell_type": "markdown",
   "metadata": {},
   "source": [
    "# Read metadata into dataframe"
   ]
  },
  {
   "cell_type": "code",
   "execution_count": 1,
   "metadata": {},
   "outputs": [
    {
     "name": "stdout",
     "output_type": "stream",
     "text": [
      "Metadata Dataset\n",
      "  main_category                                              title  \\\n",
      "0  Pet Supplies  Hurtta Pet Collection 14-Inch Padded Y-Harness...   \n",
      "1  Pet Supplies  Raised Dog Bowls,6 Inch Ceramic Dog Bowl Dish,...   \n",
      "2  Pet Supplies  4 Pack - 4 Inch Ring Filter Socks 200 Micron -...   \n",
      "3  Pet Supplies  SlowTon Dog Vest Harness, Mesh Breathable Pet ...   \n",
      "4  Pet Supplies  Cat Window Perch Durable Cat Hammock Seat for ...   \n",
      "\n",
      "   average_rating  rating_number  \\\n",
      "0             4.4            166   \n",
      "1             4.6            100   \n",
      "2             4.4             84   \n",
      "3             4.5            348   \n",
      "4             4.4            130   \n",
      "\n",
      "                                            features  \\\n",
      "0  [Made from highly durable Neoprene, Fitted wit...   \n",
      "1  [【Two Bowls+Metal Stand+Dog food mat】Really pr...   \n",
      "2  [Micron filter bags provide excellent mechanic...   \n",
      "3  [New Match and Well Made --- The chest part of...   \n",
      "4  [【Ideal for Use Year-around】Cat window perch c...   \n",
      "\n",
      "                                         description  price  \\\n",
      "0  [Hurtta harnesses are suitable for active walk...  24.95   \n",
      "1                                                 []  32.88   \n",
      "2  [Micron filter bags provide excellent mechanic...   15.0   \n",
      "3                                                 []    NaN   \n",
      "4                                                 []  23.99   \n",
      "\n",
      "                                              images  \\\n",
      "0  [{'thumb': 'https://m.media-amazon.com/images/...   \n",
      "1  [{'thumb': 'https://m.media-amazon.com/images/...   \n",
      "2  [{'thumb': 'https://m.media-amazon.com/images/...   \n",
      "3  [{'thumb': 'https://m.media-amazon.com/images/...   \n",
      "4  [{'thumb': 'https://m.media-amazon.com/images/...   \n",
      "\n",
      "                                              videos          store  \\\n",
      "0                                                 []         Hurtta   \n",
      "1  [{'title': 'Ihoming Ceramic Bowls for Dogs and...        FIVEAGE   \n",
      "2                                                 []  Encompass All   \n",
      "3                                                 []        SlowTon   \n",
      "4  [{'title': 'Cat Window Perch Beige Assembly Vi...          Mewoo   \n",
      "\n",
      "                                          categories  \\\n",
      "0  [Pet Supplies, Dogs, Collars, Harnesses & Leas...   \n",
      "1  [Pet Supplies, Dogs, Feeding & Watering Suppli...   \n",
      "2                                                 []   \n",
      "3  [Pet Supplies, Dogs, Collars, Harnesses & Leas...   \n",
      "4   [Pet Supplies, Cats, Beds & Furniture, Hammocks]   \n",
      "\n",
      "                                             details parent_asin  \\\n",
      "0  {'Size': '14 Inch', 'Color': 'Pink', 'Pattern'...  B00XJG2SLG   \n",
      "1  {'Material': 'Ceramic', 'Target Species': 'Cat...  B0BD6TXL2G   \n",
      "2  {'Is Discontinued By Manufacturer': 'No', 'Pro...  B01MQTWB5H   \n",
      "3  {'Size': 'Large', 'Color': 'Purple', 'Pattern'...  B07DYM6LXD   \n",
      "4  {'Brand': 'Mewoo', 'Color': 'Blue,Grey,Beige',...  B09ZTMTS6N   \n",
      "\n",
      "   bought_together subtitle author  \n",
      "0              NaN      NaN    NaN  \n",
      "1              NaN      NaN    NaN  \n",
      "2              NaN      NaN    NaN  \n",
      "3              NaN      NaN    NaN  \n",
      "4              NaN      NaN    NaN  \n"
     ]
    }
   ],
   "source": [
    "import pandas as pd\n",
    "\n",
    "chunk_size = 15000\n",
    "\n",
    "meta_chunks = []\n",
    "\n",
    "# Read the JSONL file in chunks\n",
    "for meta_chunk in pd.read_json('meta_Pet_Supplies.jsonl', lines=True, chunksize=chunk_size):\n",
    "    meta_chunks.append(meta_chunk)  # Collect each chunk\n",
    "\n",
    "# Concatenate all chunks into a single DataFrame\n",
    "meta_df = pd.concat(meta_chunks, ignore_index=True)\n",
    "\n",
    "# Display the first few rows\n",
    "print(\"Metadata Dataset\")\n",
    "print(meta_df.head())"
   ]
  },
  {
   "cell_type": "markdown",
   "metadata": {},
   "source": [
    "# Check Columns"
   ]
  },
  {
   "cell_type": "code",
   "execution_count": 15,
   "metadata": {},
   "outputs": [
    {
     "name": "stdout",
     "output_type": "stream",
     "text": [
      "['main_category' 'title' 'average_rating' 'rating_number' 'features'\n",
      " 'description' 'price' 'images' 'videos' 'store' 'categories' 'details'\n",
      " 'parent_asin' 'bought_together' 'subtitle' 'author']\n"
     ]
    }
   ],
   "source": [
    "pd.set_option('display.max_columns', None)\n",
    "print(meta_df.columns.values)"
   ]
  },
  {
   "cell_type": "markdown",
   "metadata": {},
   "source": [
    "# Grab Sample"
   ]
  },
  {
   "cell_type": "code",
   "execution_count": 2,
   "metadata": {},
   "outputs": [],
   "source": [
    "metadata_sample_size = 50000  # Adjust as needed\n",
    "\n",
    "# Extract random samples\n",
    "meta_df_sample = meta_df.sample(n=metadata_sample_size, random_state=42)"
   ]
  },
  {
   "cell_type": "code",
   "execution_count": 54,
   "metadata": {},
   "outputs": [
    {
     "name": "stdout",
     "output_type": "stream",
     "text": [
      "50000\n"
     ]
    }
   ],
   "source": [
    "print(len(meta_df_sample))"
   ]
  },
  {
   "cell_type": "markdown",
   "metadata": {},
   "source": [
    "Save samples in csv"
   ]
  },
  {
   "cell_type": "code",
   "execution_count": 3,
   "metadata": {},
   "outputs": [],
   "source": [
    "meta_df_sample.to_csv(\"Metadata_Sample.csv\", index=False)"
   ]
  },
  {
   "cell_type": "markdown",
   "metadata": {},
   "source": [
    "# Load Sample"
   ]
  },
  {
   "cell_type": "code",
   "execution_count": 1,
   "metadata": {},
   "outputs": [],
   "source": [
    "import pandas as pd\n",
    "\n",
    "# df_sample = pd.read_csv('Reviews_Sample.csv')\n",
    "meta_df_sample = pd.read_csv('Metadata_Sample.csv')\n",
    "\n",
    "# print(df_sample.head())\n",
    "# print(df_sample.columns)"
   ]
  },
  {
   "cell_type": "code",
   "execution_count": 56,
   "metadata": {},
   "outputs": [
    {
     "name": "stdout",
     "output_type": "stream",
     "text": [
      "                   main_category  \\\n",
      "452451  Tools & Home Improvement   \n",
      "320740              Pet Supplies   \n",
      "251412              Pet Supplies   \n",
      "308031              Pet Supplies   \n",
      "172850              Pet Supplies   \n",
      "\n",
      "                                                    title  average_rating  \\\n",
      "452451  Zoo Med Nightlight Red Reptile Bulb 100 Watts ...             4.3   \n",
      "320740  Gimars Thicker PVC Sturdy Not Collapsing Quick...             4.1   \n",
      "251412  Natural Balance L.I.D. Limited Ingredient Diet...             4.1   \n",
      "308031  teemerryca Detachable Bow Dog Collar with a Fr...             4.4   \n",
      "172850  PetSafe Happy Ride Dog Safety Harness for Cars...             4.1   \n",
      "\n",
      "        rating_number                                           features  \\\n",
      "452451             13  [Zoo Med Nightlight Red Reptile Bulb 100 Watts...   \n",
      "320740             71  [【Durable Thicker PVC Material & Deep Textured...   \n",
      "251412             14  [Contains 1 - 12 Pound Bag Of Dry Dog Food, Gr...   \n",
      "308031              5                                                 []   \n",
      "172850            226  [CRASH-TEST CERTIFICATION: Small, medium and l...   \n",
      "\n",
      "                                              description  price  \\\n",
      "452451                                                 []  22.95   \n",
      "320740                                                 []   None   \n",
      "251412  [Formulated with a limited list of premium pro...   None   \n",
      "308031                                                 []   None   \n",
      "172850  [Keep your dog safe and secure on the go with ...  15.95   \n",
      "\n",
      "                                                   images  \\\n",
      "452451  [{'thumb': 'https://m.media-amazon.com/images/...   \n",
      "320740  [{'thumb': 'https://m.media-amazon.com/images/...   \n",
      "251412  [{'thumb': 'https://m.media-amazon.com/images/...   \n",
      "308031  [{'thumb': 'https://m.media-amazon.com/images/...   \n",
      "172850  [{'thumb': 'https://m.media-amazon.com/images/...   \n",
      "\n",
      "                                                   videos            store  \\\n",
      "452451                                                 []          Zoo Med   \n",
      "320740  [{'title': 'I just arrived and it’s leaking', ...           Gimars   \n",
      "251412                                                 []  Natural Balance   \n",
      "308031                                                 []       TEEMERRYCA   \n",
      "172850  [{'title': 'PetSafe Deluxe Car Safety Dog Harn...           Solvit   \n",
      "\n",
      "                                               categories  \\\n",
      "452451  [Pet Supplies, Reptiles & Amphibians, Terrariu...   \n",
      "320740  [Pet Supplies, Dogs, Grooming, Shower & Bath S...   \n",
      "251412                    [Pet Supplies, Dogs, Food, Dry]   \n",
      "308031  [Pet Supplies, Dogs, Collars, Harnesses & Leas...   \n",
      "172850  [Pet Supplies, Dogs, Collars, Harnesses & Leas...   \n",
      "\n",
      "                                                  details parent_asin  \\\n",
      "452451                                                 {}  B07SM1Z4QT   \n",
      "320740  {'Brand': 'Gimars', 'Shape': 'Round', 'Materia...  B088DBJYZG   \n",
      "251412  {'Brand': 'Natural Balance', 'Flavor': 'Beef',...  B00UNIHKIE   \n",
      "308031  {'Pattern': 'Animal Print', 'Material': 'Polye...  B08C34TQBS   \n",
      "172850  {'Size': 'X-Large', 'Color': 'Blue', 'Pattern'...  B00JZHRXLI   \n",
      "\n",
      "        bought_together subtitle author  \n",
      "452451              NaN      NaN    NaN  \n",
      "320740              NaN      NaN    NaN  \n",
      "251412              NaN      NaN    NaN  \n",
      "308031              NaN      NaN    NaN  \n",
      "172850              NaN      NaN    NaN  \n",
      "Index(['main_category', 'title', 'average_rating', 'rating_number', 'features',\n",
      "       'description', 'price', 'images', 'videos', 'store', 'categories',\n",
      "       'details', 'parent_asin', 'bought_together', 'subtitle', 'author'],\n",
      "      dtype='object')\n"
     ]
    }
   ],
   "source": [
    "print(meta_df_sample.head())\n",
    "print(meta_df_sample.columns)"
   ]
  },
  {
   "cell_type": "code",
   "execution_count": 57,
   "metadata": {},
   "outputs": [
    {
     "name": "stdout",
     "output_type": "stream",
     "text": [
      "50000\n"
     ]
    }
   ],
   "source": [
    "print(len(meta_df_sample))"
   ]
  },
  {
   "cell_type": "markdown",
   "metadata": {},
   "source": [
    "# Data Cleaning"
   ]
  },
  {
   "cell_type": "code",
   "execution_count": 4,
   "metadata": {},
   "outputs": [],
   "source": [
    "import ast\n",
    "\n",
    "def safe_eval(val):\n",
    "    try:\n",
    "        return ast.literal_eval(val)\n",
    "    except (ValueError, SyntaxError):\n",
    "        return val\n",
    "\n",
    "# Apply safe_eval to convert string representations to actual lists/dicts\n",
    "meta_df_sample['features'] = meta_df_sample['features'].apply(safe_eval)\n",
    "meta_df_sample['description'] = meta_df_sample['description'].apply(safe_eval)\n",
    "meta_df_sample['details'] = meta_df_sample['details'].apply(safe_eval)\n",
    "\n",
    "# Function to convert list to string\n",
    "def list_to_string(lst):\n",
    "    if isinstance(lst, list):\n",
    "        return ' '.join(lst)\n",
    "    return ''\n",
    "\n",
    "# Function to convert dictionary to formatted string\n",
    "def dict_to_string(d):\n",
    "    if isinstance(d, dict):\n",
    "        return ' '.join([f\"{k}: {v}\" for k, v in d.items()])\n",
    "    return ''\n",
    "\n",
    "# Convert lists and dicts to strings\n",
    "meta_df_sample['features_str'] = meta_df_sample['features'].apply(list_to_string)\n",
    "meta_df_sample['description_str'] = meta_df_sample['description'].apply(list_to_string)\n",
    "meta_df_sample['details_str'] = meta_df_sample['details'].apply(dict_to_string)\n",
    "\n",
    "# Concatenate the string columns into 'text_feature'\n",
    "meta_df_sample['text_feature'] = (\n",
    "    meta_df_sample['features_str'] + ' ' +\n",
    "    meta_df_sample['description_str'] + ' ' +\n",
    "    meta_df_sample['details_str']\n",
    ")\n",
    "\n",
    "meta_df_sample['text_feature'] = meta_df_sample['text_feature'].fillna('')\n",
    "meta_df_sample['text_feature'] = meta_df_sample['text_feature'].astype(str)"
   ]
  },
  {
   "cell_type": "code",
   "execution_count": 5,
   "metadata": {},
   "outputs": [],
   "source": [
    "import re\n",
    "\n",
    "def clean_text(text):\n",
    "    text = text.lower()  # Convert to lowercase\n",
    "    text = re.sub(r'[^a-z\\s]', '', text)\n",
    "    text = re.sub(r'\\s+', ' ', text).strip()  # Remove extra spaces\n",
    "    return text\n",
    "\n",
    "meta_df_sample['text_feature'] = meta_df_sample['text_feature'].apply(clean_text)"
   ]
  },
  {
   "cell_type": "code",
   "execution_count": 6,
   "metadata": {},
   "outputs": [
    {
     "name": "stderr",
     "output_type": "stream",
     "text": [
      "[nltk_data] Downloading package stopwords to C:\\Users\\Geoff\n",
      "[nltk_data]     Patag\\AppData\\Roaming\\nltk_data...\n",
      "[nltk_data]   Package stopwords is already up-to-date!\n"
     ]
    }
   ],
   "source": [
    "from nltk.corpus import stopwords\n",
    "import nltk\n",
    "\n",
    "nltk.download('stopwords')\n",
    "stop_words = set(stopwords.words('english'))\n",
    "\n",
    "def remove_stopwords(text):\n",
    "    return ' '.join([word for word in text.split() if word not in stop_words])\n",
    "\n",
    "meta_df_sample['text_feature'] = meta_df_sample['text_feature'].apply(remove_stopwords)"
   ]
  },
  {
   "cell_type": "code",
   "execution_count": 7,
   "metadata": {},
   "outputs": [
    {
     "name": "stderr",
     "output_type": "stream",
     "text": [
      "[nltk_data] Downloading package wordnet to C:\\Users\\Geoff\n",
      "[nltk_data]     Patag\\AppData\\Roaming\\nltk_data...\n",
      "[nltk_data]   Package wordnet is already up-to-date!\n"
     ]
    }
   ],
   "source": [
    "from nltk.stem import WordNetLemmatizer\n",
    "nltk.download('wordnet')\n",
    "\n",
    "lemmatizer = WordNetLemmatizer()\n",
    "\n",
    "def lemmatize_text(text):\n",
    "    return ' '.join([lemmatizer.lemmatize(word) for word in text.split()])\n",
    "\n",
    "meta_df_sample['text_feature'] = meta_df_sample['text_feature'].apply(lemmatize_text)\n"
   ]
  },
  {
   "cell_type": "code",
   "execution_count": 8,
   "metadata": {},
   "outputs": [
    {
     "name": "stdout",
     "output_type": "stream",
     "text": [
      "                   main_category  \\\n",
      "452451  Tools & Home Improvement   \n",
      "320740              Pet Supplies   \n",
      "251412              Pet Supplies   \n",
      "308031              Pet Supplies   \n",
      "172850              Pet Supplies   \n",
      "\n",
      "                                                    title  average_rating  \\\n",
      "452451  Zoo Med Nightlight Red Reptile Bulb 100 Watts ...             4.3   \n",
      "320740  Gimars Thicker PVC Sturdy Not Collapsing Quick...             4.1   \n",
      "251412  Natural Balance L.I.D. Limited Ingredient Diet...             4.1   \n",
      "308031  teemerryca Detachable Bow Dog Collar with a Fr...             4.4   \n",
      "172850  PetSafe Happy Ride Dog Safety Harness for Cars...             4.1   \n",
      "\n",
      "        rating_number                                           features  \\\n",
      "452451             13  [Zoo Med Nightlight Red Reptile Bulb 100 Watts...   \n",
      "320740             71  [【Durable Thicker PVC Material & Deep Textured...   \n",
      "251412             14  [Contains 1 - 12 Pound Bag Of Dry Dog Food, Gr...   \n",
      "308031              5                                                 []   \n",
      "172850            226  [CRASH-TEST CERTIFICATION: Small, medium and l...   \n",
      "\n",
      "                                              description  price  \\\n",
      "452451                                                 []  22.95   \n",
      "320740                                                 []   None   \n",
      "251412  [Formulated with a limited list of premium pro...   None   \n",
      "308031                                                 []   None   \n",
      "172850  [Keep your dog safe and secure on the go with ...  15.95   \n",
      "\n",
      "                                                   images  \\\n",
      "452451  [{'thumb': 'https://m.media-amazon.com/images/...   \n",
      "320740  [{'thumb': 'https://m.media-amazon.com/images/...   \n",
      "251412  [{'thumb': 'https://m.media-amazon.com/images/...   \n",
      "308031  [{'thumb': 'https://m.media-amazon.com/images/...   \n",
      "172850  [{'thumb': 'https://m.media-amazon.com/images/...   \n",
      "\n",
      "                                                   videos            store  \\\n",
      "452451                                                 []          Zoo Med   \n",
      "320740  [{'title': 'I just arrived and it’s leaking', ...           Gimars   \n",
      "251412                                                 []  Natural Balance   \n",
      "308031                                                 []       TEEMERRYCA   \n",
      "172850  [{'title': 'PetSafe Deluxe Car Safety Dog Harn...           Solvit   \n",
      "\n",
      "                                               categories  \\\n",
      "452451  [Pet Supplies, Reptiles & Amphibians, Terrariu...   \n",
      "320740  [Pet Supplies, Dogs, Grooming, Shower & Bath S...   \n",
      "251412                    [Pet Supplies, Dogs, Food, Dry]   \n",
      "308031  [Pet Supplies, Dogs, Collars, Harnesses & Leas...   \n",
      "172850  [Pet Supplies, Dogs, Collars, Harnesses & Leas...   \n",
      "\n",
      "                                                  details parent_asin  \\\n",
      "452451                                                 {}  B07SM1Z4QT   \n",
      "320740  {'Brand': 'Gimars', 'Shape': 'Round', 'Materia...  B088DBJYZG   \n",
      "251412  {'Brand': 'Natural Balance', 'Flavor': 'Beef',...  B00UNIHKIE   \n",
      "308031  {'Pattern': 'Animal Print', 'Material': 'Polye...  B08C34TQBS   \n",
      "172850  {'Size': 'X-Large', 'Color': 'Blue', 'Pattern'...  B00JZHRXLI   \n",
      "\n",
      "        bought_together subtitle author  \\\n",
      "452451              NaN      NaN    NaN   \n",
      "320740              NaN      NaN    NaN   \n",
      "251412              NaN      NaN    NaN   \n",
      "308031              NaN      NaN    NaN   \n",
      "172850              NaN      NaN    NaN   \n",
      "\n",
      "                                             features_str  \\\n",
      "452451  Zoo Med Nightlight Red Reptile Bulb 100 Watts ...   \n",
      "320740  【Durable Thicker PVC Material & Deep Textured ...   \n",
      "251412  Contains 1 - 12 Pound Bag Of Dry Dog Food Grai...   \n",
      "308031                                                      \n",
      "172850  CRASH-TEST CERTIFICATION: Small, medium and la...   \n",
      "\n",
      "                                          description_str  \\\n",
      "452451                                                      \n",
      "320740                                                      \n",
      "251412  Formulated with a limited list of premium prot...   \n",
      "308031                                                      \n",
      "172850  Keep your dog safe and secure on the go with t...   \n",
      "\n",
      "                                              details_str  \\\n",
      "452451                                                      \n",
      "320740  Brand: Gimars Shape: Round Material: Polyvinyl...   \n",
      "251412  Brand: Natural Balance Flavor: Beef Age Range ...   \n",
      "308031  Pattern: Animal Print Material: Polyester Bran...   \n",
      "172850  Size: X-Large Color: Blue Pattern: Dog Brand: ...   \n",
      "\n",
      "                                             text_feature  \n",
      "452451  zoo med nightlight red reptile bulb watt pack ...  \n",
      "320740  durable thicker pvc material deep textured non...  \n",
      "251412  contains pound bag dry dog food grain free dog...  \n",
      "308031  pattern animal print material polyester brand ...  \n",
      "172850  crashtest certification small medium large siz...  \n"
     ]
    }
   ],
   "source": [
    "# print(df_sample.head())\n",
    "print(meta_df_sample.head())"
   ]
  },
  {
   "cell_type": "markdown",
   "metadata": {},
   "source": [
    "# Model"
   ]
  },
  {
   "cell_type": "code",
   "execution_count": 9,
   "metadata": {},
   "outputs": [],
   "source": [
    "from sklearn.feature_extraction.text import TfidfVectorizer\n",
    "\n",
    "# Initialize the TF-IDF Vectorizer\n",
    "tfidf = TfidfVectorizer(stop_words='english')\n",
    "\n",
    "# Fit and transform the 'text_feature' column\n",
    "tfidf_matrix = tfidf.fit_transform(meta_df_sample['text_feature'])"
   ]
  },
  {
   "cell_type": "code",
   "execution_count": 10,
   "metadata": {},
   "outputs": [],
   "source": [
    "from sklearn.metrics.pairwise import cosine_similarity\n",
    "\n",
    "def recommend_products(user_query, tfidf_matrix, meta_df_sample, top_n=5):\n",
    "    # Transform the user query using the same TF-IDF vectorizer\n",
    "    user_tfidf = tfidf.transform([user_query])\n",
    "    \n",
    "    # Compute cosine similarities between the user query and all product features\n",
    "    cosine_similarities = cosine_similarity(user_tfidf, tfidf_matrix).flatten()\n",
    "    \n",
    "    # Get indices of the top_n products with the highest similarity scores\n",
    "    top_indices = cosine_similarities.argsort()[-top_n:][::-1]\n",
    "    \n",
    "    # Retrieve the corresponding 'parent_asin's\n",
    "    recommended_asins = meta_df_sample.iloc[top_indices]['parent_asin'].values\n",
    "    \n",
    "    return recommended_asins\n"
   ]
  },
  {
   "cell_type": "code",
   "execution_count": 11,
   "metadata": {},
   "outputs": [],
   "source": [
    "def retrieve_product_names(parent_asins, meta_df_sample):\n",
    "    product_dict = meta_df_sample.set_index('parent_asin')['title'].to_dict()\n",
    "    return {asin: product_dict.get(asin, \"Title Not Found\") for asin in parent_asins}"
   ]
  },
  {
   "cell_type": "markdown",
   "metadata": {},
   "source": [
    "Preprocessor"
   ]
  },
  {
   "cell_type": "code",
   "execution_count": 12,
   "metadata": {},
   "outputs": [],
   "source": [
    "def preprocess(text):\n",
    "    clean_text(text)\n",
    "    remove_stopwords(text)\n",
    "    lemmatize_text(text)\n",
    "    return text"
   ]
  },
  {
   "cell_type": "markdown",
   "metadata": {},
   "source": [
    "Example Usage"
   ]
  },
  {
   "cell_type": "code",
   "execution_count": 15,
   "metadata": {},
   "outputs": [
    {
     "name": "stdout",
     "output_type": "stream",
     "text": [
      "plushie\n",
      "Recommended Products (parent_asin):  {'B09P49BPM7': \"Cheeki Studios 'Pawsent Plushie' Dog Toys - Birthday Surprise Interactive Present Plush Gift (Mint)\", 'B09SZ9N737': 'Carrot Plushie Dog Toy, Carrot Dog Toy, Vegetable Dog Toy, Dog Toy Plush Vegetable, Carrot Toy', 'B083PWDNCD': 'ZippyPaws - NomNomz Plush Squeaker Dog Toy for The Foodie Pup - Chips', 'B07FCVDNLQ': 'ZippyPaws Hedgehog Small', 'B0080PMW1W': 'STAR WARS Dog Toys - Officially Licensed Pet Squeaker Toys- Set Of 3 Interactive Plush Dog & Puppy Squeaker Chew Toys - The Mandalorian Mando, Grogu The Child & Sorgan Frog Squeakers For Light Chewers', 'B093GPP5TK': 'IML Pusheen PUH050APPT-ONE Donut Cat Toy Hanging Scratcher', 'B096BF9LRD': 'AmazinglyCat Dancing Fish Cat Toy + The Flopping Lobster (Bundle)', 'B0055UCFI0': 'Trapping Coyote Tail with Ball Chain', 'B09BC9GCX4': 'FzzPetDC Catnip Toys for Indoor Cats,6 Pcs Natural Silvervine Sticks Cat Toys for Indoor Cats Interactive,Cleaning Teeth Molar Tools Matatabi Cat Chew Toy,Cat chew Toy,Kitten Toys,Suitable for All Cat', 'B005J6TULU': 'Best Pet 3 Door Pet Cage, 55-Inch for Giant Breeds, Pink'}\n"
     ]
    }
   ],
   "source": [
    "user_query = \"plushie\"\n",
    "user_query = preprocess(user_query)\n",
    "print(user_query)\n",
    "recommended_asins = recommend_products(user_query, tfidf_matrix, meta_df_sample, top_n=10)\n",
    "product_titles = retrieve_product_names(recommended_asins, meta_df_sample)\n",
    "\n",
    "print(\"Recommended Products (parent_asin): \", product_titles)\n"
   ]
  },
  {
   "cell_type": "markdown",
   "metadata": {},
   "source": [
    "# Save Model"
   ]
  },
  {
   "cell_type": "code",
   "execution_count": 77,
   "metadata": {},
   "outputs": [],
   "source": [
    "import pickle\n",
    "\n",
    "# Save the TF-IDF Vectorizer and matrix\n",
    "with open(\"tfidf_vectorizer.pkl\", \"wb\") as f:\n",
    "    pickle.dump(tfidf, f)\n",
    "\n",
    "with open(\"tfidf_matrix.pkl\", \"wb\") as f:\n",
    "    pickle.dump(tfidf_matrix, f)"
   ]
  },
  {
   "cell_type": "markdown",
   "metadata": {},
   "source": [
    "# Load Model"
   ]
  },
  {
   "cell_type": "code",
   "execution_count": 117,
   "metadata": {},
   "outputs": [],
   "source": [
    "# Load the saved TF-IDF Vectorizer and matrix\n",
    "with open(\"tfidf_vectorizer.pkl\", \"rb\") as f:\n",
    "    loaded_tfidf = pickle.load(f)\n",
    "\n",
    "with open(\"tfidf_matrix.pkl\", \"rb\") as f:\n",
    "    loaded_tfidf_matrix = pickle.load(f)"
   ]
  },
  {
   "cell_type": "code",
   "execution_count": null,
   "metadata": {},
   "outputs": [
    {
     "name": "stdout",
     "output_type": "stream",
     "text": [
      "Recommended Products (parent_asin):  {'B006FRYOMC': 'Title Not Found', 'B0C3W7S2RS': 'Title Not Found', 'B085RFM4RZ': 'Amazing Dog Treats - Lamb Trachea (18-20 Count - 10 oz) - Trachea Dog Chews - Natural Source of Glucosamine & Chondroitin for Dogs - Lamb Dog Treats', 'B0CFYP3QB1': 'Title Not Found', 'B000RZPSX2': 'Title Not Found'}\n"
     ]
    },
    {
     "ename": "",
     "evalue": "",
     "output_type": "error",
     "traceback": [
      "\u001b[1;31mThe Kernel crashed while executing code in the current cell or a previous cell. \n",
      "\u001b[1;31mPlease review the code in the cell(s) to identify a possible cause of the failure. \n",
      "\u001b[1;31mClick <a href='https://aka.ms/vscodeJupyterKernelCrash'>here</a> for more info. \n",
      "\u001b[1;31mView Jupyter <a href='command:jupyter.viewOutput'>log</a> for further details."
     ]
    }
   ],
   "source": [
    "user_query = \"Dog treats\"\n",
    "recommended_asins = recommend_products(user_query, loaded_tfidf_matrix , meta_df_sample, top_n=5)\n",
    "product_titles = retrieve_product_names(recommended_asins, meta_df_sample)\n",
    "\n",
    "print(\"Recommended Products (parent_asin): \", product_titles)\n",
    "# retrieve_product_names(recommended_asins)\n"
   ]
  }
 ],
 "metadata": {
  "kernelspec": {
   "display_name": "venv",
   "language": "python",
   "name": "python3"
  },
  "language_info": {
   "codemirror_mode": {
    "name": "ipython",
    "version": 3
   },
   "file_extension": ".py",
   "mimetype": "text/x-python",
   "name": "python",
   "nbconvert_exporter": "python",
   "pygments_lexer": "ipython3",
   "version": "3.12.9"
  }
 },
 "nbformat": 4,
 "nbformat_minor": 2
}
